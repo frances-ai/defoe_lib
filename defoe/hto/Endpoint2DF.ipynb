{
 "cells": [
  {
   "cell_type": "markdown",
   "source": [
    "This notebook explores the essential sparql query used in defoe"
   ],
   "metadata": {
    "collapsed": false
   }
  },
  {
   "cell_type": "code",
   "execution_count": 8,
   "outputs": [],
   "source": [
    "import pandas as pd\n",
    "from SPARQLWrapper import SPARQLWrapper\n",
    "\n",
    "# Setup SparqlWrapper\n",
    "hto_sparql_endpoint = \"http://127.0.0.1:3030/hto\"\n",
    "hto_sparql_wrapper = SPARQLWrapper(hto_sparql_endpoint)"
   ],
   "metadata": {
    "collapsed": false
   }
  },
  {
   "cell_type": "code",
   "execution_count": 9,
   "outputs": [],
   "source": [
    "from SPARQLWrapper import JSON\n",
    "\n",
    "\n",
    "# List all collections\n",
    "def get_all_collections():\n",
    "    collections=[]\n",
    "    query=\"\"\"\n",
    "      PREFIX hto: <https://w3id.org/hto#>\n",
    "      PREFIX rdfs: <http://www.w3.org/2000/01/rdf-schema#>\n",
    "      SELECT ?collection ?name WHERE {\n",
    "        ?collection a hto:WorkCollection;\n",
    "            hto:name ?name.\n",
    "        FILTER (regex(?name, \"Collection$\", \"i\"))\n",
    "    }\n",
    "    \"\"\"\n",
    "    hto_sparql_wrapper.setQuery(query)\n",
    "    hto_sparql_wrapper.setReturnFormat(JSON)\n",
    "    results = hto_sparql_wrapper.query().convert()\n",
    "    for r in results[\"results\"][\"bindings\"]:\n",
    "        collections.append({\"uri\": r[\"collection\"][\"value\"], \"name\": r[\"name\"][\"value\"]})\n",
    "    return collections"
   ],
   "metadata": {
    "collapsed": false
   }
  },
  {
   "cell_type": "code",
   "execution_count": 10,
   "outputs": [
    {
     "data": {
      "text/plain": "[{'uri': 'https://w3id.org/hto/WorkCollection/EncyclopaediaBritannica',\n  'name': 'Encyclopaedia Britannica Collection'},\n {'uri': 'https://w3id.org/hto/WorkCollection/ChapbooksOfScotland',\n  'name': 'Chapbooks printed in Scotland Collection'}]"
     },
     "execution_count": 10,
     "metadata": {},
     "output_type": "execute_result"
    }
   ],
   "source": [
    "all_collections = get_all_collections()\n",
    "all_collections"
   ],
   "metadata": {
    "collapsed": false
   }
  },
  {
   "cell_type": "code",
   "execution_count": 11,
   "outputs": [],
   "source": [
    "def get_nls_page_from_nls(collection_name):\n",
    "    \"\"\"\n",
    "    This function will query hto kg, and get all eb terms with their descriptions and metadata extracted from NLS dataset.\n",
    "    :return: eb_terms_nls, a list of terms with their descriptions and metadata extracted from NLS dataset.\n",
    "    \"\"\"\n",
    "    source_provider_name = \"National Library of Scotland\"\n",
    "    pages=[]\n",
    "    query=\"\"\"\n",
    "      PREFIX hto: <https://w3id.org/hto#>\n",
    "      PREFIX prov: <http://www.w3.org/ns/prov#>\n",
    "      PREFIX foaf: <http://xmlns.com/foaf/0.1/>\n",
    "      SELECT * WHERE {\n",
    "        ?page hto:number ?page_number;\n",
    "            hto:hasOriginalDescription ?description.\n",
    "        ?description hto:text ?text;\n",
    "            hto:wasExtractedFrom ?source_dataset.\n",
    "        ?source_dataset prov:wasAttributedTo ?agent.\n",
    "        ?agent foaf:name \"%s\".\n",
    "        ?volume a hto:Volume;\n",
    "            hto:hadMember ?page.\n",
    "        ?series a hto:Series;\n",
    "            hto:hadMember ?volume.\n",
    "        ?eb_collection a hto:WorkCollection;\n",
    "            hto:name \"%s\";\n",
    "            hto:hadMember ?series.\n",
    "    }\n",
    "    \"\"\" % (source_provider_name, collection_name)\n",
    "    print(query)\n",
    "    hto_sparql_wrapper.setQuery(query)\n",
    "    hto_sparql_wrapper.setReturnFormat(JSON)\n",
    "    results = hto_sparql_wrapper.query().convert()\n",
    "    for r in results[\"results\"][\"bindings\"]:\n",
    "        pages.append(\n",
    "            {\"page_uri\": r[\"page\"][\"value\"],\n",
    "             \"page_number\": r[\"page_number\"][\"value\"],\n",
    "             \"text\": r[\"text\"][\"value\"],\n",
    "             \"volume\": r[\"volume\"][\"value\"]\n",
    "             }\n",
    "        )\n",
    "    return pages"
   ],
   "metadata": {
    "collapsed": false
   }
  },
  {
   "cell_type": "code",
   "execution_count": 25,
   "outputs": [],
   "source": [
    "def get_eb_terms_from_nls():\n",
    "    \"\"\"\n",
    "    This function will query hto kg, and get all eb terms with their descriptions and metadata extracted from NLS dataset. Note that, since the hto kg contains the supplement (in 1842) which only has dissertations, this function will also get these dissertations.\n",
    "    :return: eb_terms_nls, a list of terms with their descriptions and metadata extracted from NLS dataset.\n",
    "    \"\"\"\n",
    "    collection_name = \"Encyclopaedia Britannica Collection\"\n",
    "    nls_agent_name = \"National Library of Scotland\"\n",
    "    terms=[]\n",
    "    query=\"\"\"\n",
    "      PREFIX hto: <https://w3id.org/hto#>\n",
    "      PREFIX prov: <http://www.w3.org/ns/prov#>\n",
    "      PREFIX foaf: <http://xmlns.com/foaf/0.1/>\n",
    "      SELECT * WHERE {\n",
    "        ?term a ?term_type;\n",
    "            hto:name ?term_name;\n",
    "            hto:startsAtPage ?page;\n",
    "            hto:hasOriginalDescription ?description.\n",
    "        FILTER (?term_type = hto:ArticleTermRecord || ?term_type = hto:TopicTermRecord)\n",
    "        ?description hto:text ?description_text;\n",
    "            hto:wasExtractedFrom ?source_dataset.\n",
    "        ?source_dataset prov:wasAttributedTo ?agent.\n",
    "        ?agent foaf:name \"%s\".\n",
    "        ?volume a hto:Volume;\n",
    "            hto:hadMember ?page.\n",
    "        ?edition a hto:Edition;\n",
    "            hto:hadMember ?volume.\n",
    "        ?eb_collection a hto:WorkCollection;\n",
    "            hto:name \"%s\";\n",
    "            hto:hadMember ?edition.\n",
    "    }\n",
    "    \"\"\" % (nls_agent_name, collection_name)\n",
    "    print(query)\n",
    "    hto_sparql_wrapper.setQuery(query)\n",
    "    hto_sparql_wrapper.setReturnFormat(JSON)\n",
    "    results = hto_sparql_wrapper.query().convert()\n",
    "    for r in results[\"results\"][\"bindings\"]:\n",
    "        terms.append(\n",
    "            {\"term_uri\": r[\"term\"][\"value\"],\n",
    "             \"term_name\": r[\"term_name\"][\"value\"],\n",
    "             \"description\": r[\"description_text\"][\"value\"],\n",
    "             \"edition\": r[\"edition\"][\"value\"]\n",
    "             }\n",
    "        )\n",
    "    return terms"
   ],
   "metadata": {
    "collapsed": false
   }
  },
  {
   "cell_type": "code",
   "execution_count": 16,
   "outputs": [
    {
     "name": "stdout",
     "output_type": "stream",
     "text": [
      "['992277653804341', '9929192893804340', '997902523804341', '997902543804341', '9910796343804340', '9910796233804340', '9922270543804340', '9910796253804340', '9910796273804340', '9929777383804340']\n",
      "FILTER (?mmsid = \"992277653804341\" || ?mmsid = \"9929192893804340\" || ?mmsid = \"997902523804341\" || ?mmsid = \"997902543804341\" || ?mmsid = \"9910796343804340\" || ?mmsid = \"9910796233804340\" || ?mmsid = \"9922270543804340\" || ?mmsid = \"9910796253804340\" || ?mmsid = \"9910796273804340\" || ?mmsid = \"9929777383804340\")\n"
     ]
    }
   ],
   "source": [
    "eb_edition_mmsids = [\"992277653804341\" # 1st 1771\n",
    "                     , \"9929192893804340\" # 1st 1773\n",
    "                     , \"997902523804341\" # 2nd 1778\n",
    "                     , \"997902543804341\" # 3rd 1797\n",
    "                     , \"9910796343804340\" # 3rd 1801\n",
    "                     , \"9910796233804340\" # 4th 1810\n",
    "                     , \"9922270543804340\" # 5th 1815\n",
    "                     , \"9910796253804340\" # 6th 1823\n",
    "                     , \"9910796273804340\" # 7th 1842\n",
    "                    , \"9929777383804340\" # 8th 1853\n",
    "]\n",
    "print(eb_edition_mmsids)\n",
    "filter_str = \"FILTER (?mmsid = \\\"\" + \"\\\" || ?mmsid = \\\"\".join(eb_edition_mmsids) + \"\\\")\"\n",
    "print(filter_str)"
   ],
   "metadata": {
    "collapsed": false
   }
  },
  {
   "cell_type": "code",
   "execution_count": 28,
   "outputs": [],
   "source": [
    "def create_alter_names_dicts():\n",
    "    hto_sparql_wrapper.setQuery(\"\"\"\n",
    "    PREFIX hto: <https://w3id.org/hto#>\n",
    "    PREFIX rdfs: <http://www.w3.org/2000/01/rdf-schema#>\n",
    "    SELECT * WHERE {\n",
    "        ?term_uri a ?term_type;\n",
    "            rdfs:label ?alter_name.\n",
    "        FILTER (?term_type = hto:ArticleTermRecord || ?term_type = hto:TopicTermRecord)\n",
    "    }\n",
    "    \"\"\"\n",
    "                    )\n",
    "    ret = hto_sparql_wrapper.queryAndConvert()\n",
    "    term_alter_names = {}\n",
    "    for r in ret[\"results\"][\"bindings\"]:\n",
    "        term_uri = r[\"term_uri\"][\"value\"]\n",
    "        alter_name = r[\"alter_name\"][\"value\"]\n",
    "        if term_uri in term_alter_names:\n",
    "            term_alter_names[term_uri].append(alter_name)\n",
    "        else:\n",
    "            term_alter_names[term_uri] = [alter_name]\n",
    "\n",
    "    return term_alter_names"
   ],
   "metadata": {
    "collapsed": false
   }
  },
  {
   "cell_type": "code",
   "execution_count": 39,
   "outputs": [],
   "source": [
    "def get_eb_terms_simple(edition_mmsids, source_provider):\n",
    "    \"\"\"\n",
    "    This function queries eb terms from a list of editions with one specific source provider.\n",
    "    :param edition_mmsids: A list of edition mmsids.\n",
    "    :param source_provider: People or Organisations who transcribed the EB collection into digital text.\n",
    "    :return: a list of terms, each term has term_uri, year, edition_uri, edition_title, edition number, vol_uri, vol_num, num_pages, letters, part, file_path, start_page, header, term_primary_name, term_alter_names, note, description.\n",
    "    \"\"\"\n",
    "    collection_name = \"Encyclopaedia Britannica Collection\"\n",
    "    mmsid_filter_string = \"FILTER (?mmsid = \\\"\" + \"\\\" || ?mmsid = \\\"\".join(edition_mmsids) + \"\\\")\"\n",
    "    terms=[]\n",
    "    query=\"\"\"\n",
    "      PREFIX hto: <https://w3id.org/hto#>\n",
    "      PREFIX prov: <http://www.w3.org/ns/prov#>\n",
    "      PREFIX foaf: <http://xmlns.com/foaf/0.1/>\n",
    "      SELECT * WHERE {\n",
    "        ?term a ?term_type;\n",
    "            hto:name ?term_name;\n",
    "            hto:startsAtPage ?page;\n",
    "            hto:hasOriginalDescription ?description.\n",
    "        OPTIONAL {?term hto:note ?note}\n",
    "        FILTER (?term_type = hto:ArticleTermRecord || ?term_type = hto:TopicTermRecord)\n",
    "        ?description hto:text ?description_text;\n",
    "            hto:wasExtractedFrom ?source_dataset.\n",
    "        ?source_dataset prov:wasAttributedTo ?agent;\n",
    "            prov:value ?source_filepath.\n",
    "        ?agent foaf:name \"%s\".\n",
    "        ?page hto:number ?page_number.\n",
    "        OPTIONAL {?page hto:header ?header}\n",
    "        ?volume a hto:Volume;\n",
    "            hto:number ?volume_number;\n",
    "            hto:numberOfPages ?number_pages;\n",
    "            hto:hadMember ?page.\n",
    "        OPTIONAL {?volume hto:letters ?letters;}\n",
    "        OPTIONAL {?volume hto:part ?part}\n",
    "        ?edition a hto:Edition;\n",
    "            hto:title ?edition_title;\n",
    "            hto:yearPublished ?year;\n",
    "            hto:mmsid ?mmsid;\n",
    "            hto:hadMember ?volume.\n",
    "        OPTIONAL {?edition hto:number ?edition_number}\n",
    "        %s\n",
    "        ?eb_collection a hto:WorkCollection;\n",
    "            hto:name \"%s\";\n",
    "            hto:hadMember ?edition.\n",
    "    }\n",
    "    \"\"\" % (source_provider, mmsid_filter_string, collection_name)\n",
    "    print(query)\n",
    "    hto_sparql_wrapper.setQuery(query)\n",
    "    hto_sparql_wrapper.setReturnFormat(JSON)\n",
    "    results = hto_sparql_wrapper.query().convert()\n",
    "    for r in results[\"results\"][\"bindings\"]:\n",
    "        terms.append(\n",
    "            {\"term_uri\": r[\"term\"][\"value\"],\n",
    "             \"term_name\": r[\"term_name\"][\"value\"],\n",
    "             \"description\": r[\"description_text\"][\"value\"]\n",
    "             }\n",
    "        )\n",
    "    return terms"
   ],
   "metadata": {
    "collapsed": false
   }
  },
  {
   "cell_type": "code",
   "execution_count": 53,
   "outputs": [],
   "source": [
    "def get_eb_terms_from_editions_with_source_provider(edition_mmsids, source_provider):\n",
    "    \"\"\"\n",
    "    This function queries eb terms from a list of editions with one specific source provider.\n",
    "    :param edition_mmsids: A list of edition mmsids.\n",
    "    :param source_provider: People or Organisations who transcribed the EB collection into digital text.\n",
    "    :return: a list of terms, each term has term_uri, year, edition_uri, edition_title, edition number, vol_uri, vol_num, num_pages, letters, part, file_path, start_page, header, term_primary_name, term_alter_names, note, description.\n",
    "    \"\"\"\n",
    "    terms_alter_names = create_alter_names_dicts()\n",
    "    collection_name = \"Encyclopaedia Britannica Collection\"\n",
    "    mmsid_filter_string = \"FILTER (?mmsid = \\\"\" + \"\\\" || ?mmsid = \\\"\".join(edition_mmsids) + \"\\\")\"\n",
    "    terms=[]\n",
    "    query=\"\"\"\n",
    "      PREFIX hto: <https://w3id.org/hto#>\n",
    "      PREFIX prov: <http://www.w3.org/ns/prov#>\n",
    "      PREFIX foaf: <http://xmlns.com/foaf/0.1/>\n",
    "      SELECT * WHERE {\n",
    "        ?term a ?term_type;\n",
    "            hto:name ?term_name;\n",
    "            hto:startsAtPage ?page;\n",
    "            hto:hasOriginalDescription ?description.\n",
    "        OPTIONAL {?term hto:note ?note}\n",
    "        FILTER (?term_type = hto:ArticleTermRecord || ?term_type = hto:TopicTermRecord)\n",
    "        ?description hto:text ?description_text;\n",
    "            hto:wasExtractedFrom ?source_dataset.\n",
    "        ?source_dataset prov:wasAttributedTo ?agent;\n",
    "            prov:value ?source_filepath.\n",
    "        ?agent foaf:name \"%s\".\n",
    "        ?page hto:number ?page_number.\n",
    "        OPTIONAL {?page hto:header ?header}\n",
    "        ?volume a hto:Volume;\n",
    "            hto:number ?volume_number;\n",
    "            hto:numberOfPages ?number_pages;\n",
    "            hto:hadMember ?page.\n",
    "        OPTIONAL {?volume hto:letters ?letters;}\n",
    "        OPTIONAL {?volume hto:part ?part}\n",
    "        ?edition a hto:Edition;\n",
    "            hto:title ?edition_title;\n",
    "            hto:yearPublished ?year;\n",
    "            hto:mmsid ?mmsid;\n",
    "            hto:hadMember ?volume.\n",
    "        OPTIONAL {?edition hto:number ?edition_number}\n",
    "        %s\n",
    "        ?eb_collection a hto:WorkCollection;\n",
    "            hto:name \"%s\";\n",
    "            hto:hadMember ?edition.\n",
    "    }\n",
    "    \"\"\" % (source_provider, mmsid_filter_string, collection_name)\n",
    "    print(query)\n",
    "    hto_sparql_wrapper.setQuery(query)\n",
    "    hto_sparql_wrapper.setReturnFormat(JSON)\n",
    "    results = hto_sparql_wrapper.query().convert()\n",
    "    for r in results[\"results\"][\"bindings\"]:\n",
    "        note = None\n",
    "        if \"note\" in r:\n",
    "            note = r[\"note\"][\"value\"]\n",
    "        edition_number = None\n",
    "        if \"edition_number\" in r:\n",
    "            edition_number = r[\"edition_number\"][\"value\"]\n",
    "        part = None\n",
    "        if \"part\" in r:\n",
    "            part = r[\"part\"][\"value\"]\n",
    "        letters = None\n",
    "        alter_names = []\n",
    "        term_uri = r[\"term\"][\"value\"]\n",
    "        if term_uri in terms_alter_names:\n",
    "            alter_names = terms_alter_names[term_uri]\n",
    "        if \"letters\" in r:\n",
    "            letters = r[\"letters\"][\"value\"]\n",
    "        terms.append(\n",
    "            {\"term_uri\": term_uri,\n",
    "             \"term_name\": r[\"term_name\"][\"value\"],\n",
    "             \"alter_names\": alter_names,\n",
    "             \"note\": note,\n",
    "             \"file_path\": r[\"source_filepath\"][\"value\"],\n",
    "             \"description\": r[\"description_text\"][\"value\"],\n",
    "             \"edition_uri\": r[\"edition\"][\"value\"],\n",
    "             \"edition_title\": r[\"edition_title\"][\"value\"],\n",
    "             \"edition_number\": edition_number,\n",
    "             \"volume_uri\": r[\"volume\"][\"value\"],\n",
    "             \"volume_number\": r[\"volume_number\"][\"value\"],\n",
    "             \"num_pages\": r[\"number_pages\"][\"value\"],\n",
    "             \"letters\": letters,\n",
    "             \"part\": part,\n",
    "             \"start_page_uri\": r[\"page\"][\"value\"],\n",
    "             \"start_page_number\": r[\"page_number\"][\"value\"]\n",
    "             }\n",
    "        )\n",
    "    return terms"
   ],
   "metadata": {
    "collapsed": false
   }
  },
  {
   "cell_type": "code",
   "execution_count": 13,
   "outputs": [],
   "source": [
    "def get_hto_object(collection_name, source):\n",
    "    \"\"\"\n",
    "    This function will query hto kg, and get a list of hto object based on the collection name and source. For EB collection, it will return terms from given source dataset, For other NLS collection, it will return pages from given source datase.\n",
    "    :param collection_name: Name of digital collections in hto kg.\n",
    "    :param source: Three types of sources: NLS, Neuspell and HQ.\n",
    "    :return: a list of hto object based on the collection name and source.\n",
    "    \"\"\"\n",
    "    results = []\n",
    "    if collection_name == \"Encyclopaedia Britannica Collection\":\n",
    "        if source == \"NLS\":\n",
    "            edition_mmsids = [\"992277653804341\" # 1st 1771\n",
    "                     , \"9929192893804340\" # 1st 1773\n",
    "                     , \"997902523804341\" # 2nd 1778\n",
    "                     , \"997902543804341\" # 3rd 1797\n",
    "                     , \"9910796343804340\" # 3rd 1801\n",
    "                     , \"9910796233804340\" # 4th 1810\n",
    "                     , \"9922270543804340\" # 5th 1815\n",
    "                     , \"9910796253804340\" # 6th 1823\n",
    "                     , \"9910796273804340\" # 7th 1842\n",
    "                    , \"9929777383804340\" # 8th 1853\n",
    "                                ]\n",
    "            results = get_eb_terms_from_editions_with_source_provider(edition_mmsids, \"National Library of Scotland\")\n",
    "        elif source == \"HQ\":\n",
    "            ash_edition_mmsid = [\"992277653804341\"]\n",
    "            nckp_edition_mmsid = [\"9910796273804340\"]\n",
    "            nls_edition_mmsids = [\"9929192893804340\" # 1st 1773\n",
    "                     , \"997902523804341\" # 2nd 1778\n",
    "                     , \"997902543804341\" # 3rd 1797\n",
    "                     , \"9910796343804340\" # 3rd 1801\n",
    "                     , \"9910796233804340\" # 4th 1810\n",
    "                     , \"9922270543804340\" # 5th 1815\n",
    "                     , \"9910796253804340\" # 6th 1823\n",
    "                    , \"9929777383804340\" # 8th 1853\n",
    "                                ]\n",
    "            ash_terms = get_eb_terms_from_editions_with_source_provider(ash_edition_mmsid, \"Ash Charlton\")\n",
    "            nls_terms = get_eb_terms_from_editions_with_source_provider(nls_edition_mmsids, \"National Library of Scotland\")\n",
    "            nckp_terms = get_eb_terms_from_editions_with_source_provider(nckp_edition_mmsid, \"Nineteenth-Century Knowledge Project\")\n",
    "            results.extend(ash_terms)\n",
    "            results.extend(nls_terms)\n",
    "            results.extend(nckp_terms)\n",
    "    else:\n",
    "        if source == \"NLS\":\n",
    "            results = get_nls_page_from_nls(collection_name)\n",
    "    return results"
   ],
   "metadata": {
    "collapsed": false
   }
  },
  {
   "cell_type": "code",
   "execution_count": 26,
   "outputs": [
    {
     "name": "stdout",
     "output_type": "stream",
     "text": [
      "\n",
      "      PREFIX hto: <https://w3id.org/hto#>\n",
      "      PREFIX prov: <http://www.w3.org/ns/prov#>\n",
      "      PREFIX foaf: <http://xmlns.com/foaf/0.1/>\n",
      "      SELECT * WHERE {\n",
      "        ?term a ?term_type;\n",
      "            hto:name ?term_name;\n",
      "            hto:startsAtPage ?page;\n",
      "            hto:hasOriginalDescription ?description.\n",
      "        FILTER (?term_type = hto:ArticleTermRecord || ?term_type = hto:TopicTermRecord)\n",
      "        ?description hto:text ?description_text;\n",
      "            hto:wasExtractedFrom ?source_dataset.\n",
      "        ?source_dataset prov:wasAttributedTo ?agent.\n",
      "        ?agent foaf:name \"National Library of Scotland\".\n",
      "        ?volume a hto:Volume;\n",
      "            hto:hadMember ?page.\n",
      "        ?edition a hto:Edition;\n",
      "            hto:hadMember ?volume.\n",
      "        ?eb_collection a hto:WorkCollection;\n",
      "            hto:name \"Encyclopaedia Britannica Collection\";\n",
      "            hto:hadMember ?edition.\n",
      "    }\n",
      "    \n"
     ]
    },
    {
     "data": {
      "text/plain": "151065"
     },
     "execution_count": 26,
     "metadata": {},
     "output_type": "execute_result"
    }
   ],
   "source": [
    "all_terms = get_eb_terms_from_nls()\n",
    "len(all_terms)"
   ],
   "metadata": {
    "collapsed": false
   }
  },
  {
   "cell_type": "code",
   "execution_count": 54,
   "outputs": [
    {
     "name": "stdout",
     "output_type": "stream",
     "text": [
      "\n",
      "      PREFIX hto: <https://w3id.org/hto#>\n",
      "      PREFIX prov: <http://www.w3.org/ns/prov#>\n",
      "      PREFIX foaf: <http://xmlns.com/foaf/0.1/>\n",
      "      SELECT * WHERE {\n",
      "        ?term a ?term_type;\n",
      "            hto:name ?term_name;\n",
      "            hto:startsAtPage ?page;\n",
      "            hto:hasOriginalDescription ?description.\n",
      "        OPTIONAL {?term hto:note ?note}\n",
      "        FILTER (?term_type = hto:ArticleTermRecord || ?term_type = hto:TopicTermRecord)\n",
      "        ?description hto:text ?description_text;\n",
      "            hto:wasExtractedFrom ?source_dataset.\n",
      "        ?source_dataset prov:wasAttributedTo ?agent;\n",
      "            prov:value ?source_filepath.\n",
      "        ?agent foaf:name \"National Library of Scotland\".\n",
      "        ?page hto:number ?page_number.\n",
      "        OPTIONAL {?page hto:header ?header}\n",
      "        ?volume a hto:Volume;\n",
      "            hto:number ?volume_number;\n",
      "            hto:numberOfPages ?number_pages;\n",
      "            hto:hadMember ?page.\n",
      "        OPTIONAL {?volume hto:letters ?letters;}\n",
      "        OPTIONAL {?volume hto:part ?part}\n",
      "        ?edition a hto:Edition;\n",
      "            hto:title ?edition_title;\n",
      "            hto:yearPublished ?year;\n",
      "            hto:mmsid ?mmsid;\n",
      "            hto:hadMember ?volume.\n",
      "        OPTIONAL {?edition hto:number ?edition_number}\n",
      "        FILTER (?mmsid = \"992277653804341\" || ?mmsid = \"9929192893804340\" || ?mmsid = \"997902523804341\" || ?mmsid = \"997902543804341\" || ?mmsid = \"9910796343804340\" || ?mmsid = \"9910796233804340\" || ?mmsid = \"9922270543804340\" || ?mmsid = \"9910796253804340\" || ?mmsid = \"9910796273804340\" || ?mmsid = \"9929777383804340\")\n",
      "        ?eb_collection a hto:WorkCollection;\n",
      "            hto:name \"Encyclopaedia Britannica Collection\";\n",
      "            hto:hadMember ?edition.\n",
      "    }\n",
      "    \n"
     ]
    },
    {
     "data": {
      "text/plain": "150569"
     },
     "execution_count": 54,
     "metadata": {},
     "output_type": "execute_result"
    }
   ],
   "source": [
    "terms_from_editions_nls = get_eb_terms_from_editions_with_source_provider(eb_edition_mmsids, \"National Library of Scotland\")\n",
    "# It should be 150569\n",
    "len(terms_from_editions_nls)"
   ],
   "metadata": {
    "collapsed": false
   }
  },
  {
   "cell_type": "code",
   "execution_count": 40,
   "outputs": [
    {
     "name": "stdout",
     "output_type": "stream",
     "text": [
      "\n",
      "      PREFIX hto: <https://w3id.org/hto#>\n",
      "      PREFIX prov: <http://www.w3.org/ns/prov#>\n",
      "      PREFIX foaf: <http://xmlns.com/foaf/0.1/>\n",
      "      SELECT * WHERE {\n",
      "        ?term a ?term_type;\n",
      "            hto:name ?term_name;\n",
      "            hto:startsAtPage ?page;\n",
      "            hto:hasOriginalDescription ?description.\n",
      "        OPTIONAL {?term hto:note ?note}\n",
      "        FILTER (?term_type = hto:ArticleTermRecord || ?term_type = hto:TopicTermRecord)\n",
      "        ?description hto:text ?description_text;\n",
      "            hto:wasExtractedFrom ?source_dataset.\n",
      "        ?source_dataset prov:wasAttributedTo ?agent;\n",
      "            prov:value ?source_filepath.\n",
      "        ?agent foaf:name \"National Library of Scotland\".\n",
      "        ?page hto:number ?page_number.\n",
      "        OPTIONAL {?page hto:header ?header}\n",
      "        ?volume a hto:Volume;\n",
      "            hto:number ?volume_number;\n",
      "            hto:numberOfPages ?number_pages;\n",
      "            hto:hadMember ?page.\n",
      "        OPTIONAL {?volume hto:letters ?letters;}\n",
      "        OPTIONAL {?volume hto:part ?part}\n",
      "        ?edition a hto:Edition;\n",
      "            hto:title ?edition_title;\n",
      "            hto:yearPublished ?year;\n",
      "            hto:mmsid ?mmsid;\n",
      "            hto:hadMember ?volume.\n",
      "        OPTIONAL {?edition hto:number ?edition_number}\n",
      "        FILTER (?mmsid = \"992277653804341\" || ?mmsid = \"9929192893804340\" || ?mmsid = \"997902523804341\" || ?mmsid = \"997902543804341\" || ?mmsid = \"9910796343804340\" || ?mmsid = \"9910796233804340\" || ?mmsid = \"9922270543804340\" || ?mmsid = \"9910796253804340\" || ?mmsid = \"9910796273804340\" || ?mmsid = \"9929777383804340\")\n",
      "        ?eb_collection a hto:WorkCollection;\n",
      "            hto:name \"Encyclopaedia Britannica Collection\";\n",
      "            hto:hadMember ?edition.\n",
      "    }\n",
      "    \n"
     ]
    },
    {
     "data": {
      "text/plain": "150569"
     },
     "execution_count": 40,
     "metadata": {},
     "output_type": "execute_result"
    }
   ],
   "source": [
    "simple_terms_from_editions_nls = get_eb_terms_simple(eb_edition_mmsids, \"National Library of Scotland\")\n",
    "# 150569\n",
    "len(simple_terms_from_editions_nls)"
   ],
   "metadata": {
    "collapsed": false
   }
  },
  {
   "cell_type": "code",
   "execution_count": 46,
   "outputs": [
    {
     "name": "stdout",
     "output_type": "stream",
     "text": [
      "\n",
      "      PREFIX hto: <https://w3id.org/hto#>\n",
      "      PREFIX prov: <http://www.w3.org/ns/prov#>\n",
      "      PREFIX foaf: <http://xmlns.com/foaf/0.1/>\n",
      "      SELECT * WHERE {\n",
      "        ?term a ?term_type;\n",
      "            hto:name ?term_name;\n",
      "            hto:startsAtPage ?page;\n",
      "            hto:hasOriginalDescription ?description.\n",
      "        FILTER (?term_type = hto:ArticleTermRecord || ?term_type = hto:TopicTermRecord)\n",
      "        ?description hto:text ?description_text;\n",
      "            hto:wasExtractedFrom ?source_dataset.\n",
      "        ?source_dataset prov:wasAttributedTo ?agent.\n",
      "        ?agent foaf:name \"Ash Charlton\".\n",
      "        ?volume a hto:Volume;\n",
      "            hto:hadMember ?page.\n",
      "        ?edition a hto:Edition;\n",
      "            hto:mmsid ?mmsid;\n",
      "            hto:hadMember ?volume.\n",
      "        FILTER (?mmsid = \"992277653804341\")\n",
      "        ?eb_collection a hto:WorkCollection;\n",
      "            hto:name \"Encyclopaedia Britannica Collection\";\n",
      "            hto:hadMember ?edition.\n",
      "    }\n",
      "    \n"
     ]
    },
    {
     "data": {
      "text/plain": "1"
     },
     "execution_count": 46,
     "metadata": {},
     "output_type": "execute_result"
    }
   ],
   "source": [
    "ash_edition_mmsid = [\"992277653804341\"]\n",
    "ash_terms = get_eb_terms_from_editions_with_source_provider(ash_edition_mmsid, \"Ash Charlton\")\n"
   ],
   "metadata": {
    "collapsed": false
   }
  },
  {
   "cell_type": "code",
   "execution_count": 48,
   "outputs": [
    {
     "data": {
      "text/plain": "15955"
     },
     "execution_count": 48,
     "metadata": {},
     "output_type": "execute_result"
    }
   ],
   "source": [
    "len(ash_terms)"
   ],
   "metadata": {
    "collapsed": false
   }
  },
  {
   "cell_type": "code",
   "execution_count": 55,
   "outputs": [
    {
     "data": {
      "text/plain": "                                                 term_uri     term_name   \n0       https://w3id.org/hto/ArticleTermRecord/9910796...      ALMAGEST  \\\n1       https://w3id.org/hto/ArticleTermRecord/9910796...       ALKENNA   \n2       https://w3id.org/hto/ArticleTermRecord/9910796...  ALOGOTROPHIA   \n3       https://w3id.org/hto/ArticleTermRecord/9910796...      AMBROSIN   \n4       https://w3id.org/hto/ArticleTermRecord/9910796...       ALEUROM   \n...                                                   ...           ...   \n150564  https://w3id.org/hto/TopicTermRecord/992977738...       MOROCCO   \n150565  https://w3id.org/hto/TopicTermRecord/992977738...          TEES   \n150566  https://w3id.org/hto/TopicTermRecord/992977738...       BRIDGES   \n150567  https://w3id.org/hto/TopicTermRecord/997902543...   STENOGRAPHY   \n150568  https://w3id.org/hto/TopicTermRecord/992977738...     WATERFORD   \n\n       alter_names  note                        file_path   \n0               []  None  191253819/alto/192151933.34.xml  \\\n1               []  None  191253819/alto/192151738.34.xml   \n2               []  None  191253819/alto/192152063.34.xml   \n3               []  None  191253819/alto/192153038.34.xml   \n4               []  None  191253819/alto/192150347.34.xml   \n...            ...   ...                              ...   \n150564          []  None  193592632/alto/193600554.34.xml   \n150565          []  None  193819047/alto/193843911.34.xml   \n150566          []  None  193696087/alto/193792243.34.xml   \n150567          []  None  191253800/alto/191923684.34.xml   \n150568          []  None  193819047/alto/193851776.34.xml   \n\n                                              description   \n0       in Matters of Literature, larly used for a col...  \\\n1                                           See Lawsonia,   \n2       among Phy/icians, a term signifying the unequa...   \n3       in middle-age writers, denotes a coin struck b...   \n4       ANC T, the same with what was ctherwife called...   \n...                                                   ...   \n150564  MOROCCO. \\r c |)CCO. plexion, and live by hunt...   \n150565  T H E A Theatres. There was something very app...   \n150566  IRON BRIDGES. Iron Bridges. The exclusive use ...   \n150567  pofed the omission of vowels in_ the middle of...   \n150568  1 WATERFORD. 760 Waterford. 800 tons come up t...   \n\n                                          edition_uri   \n0       https://w3id.org/hto/Edition/9910796233804340  \\\n1       https://w3id.org/hto/Edition/9910796233804340   \n2       https://w3id.org/hto/Edition/9910796233804340   \n3       https://w3id.org/hto/Edition/9910796233804340   \n4       https://w3id.org/hto/Edition/9910796233804340   \n...                                               ...   \n150564  https://w3id.org/hto/Edition/9929777383804340   \n150565  https://w3id.org/hto/Edition/9929777383804340   \n150566  https://w3id.org/hto/Edition/9929777383804340   \n150567   https://w3id.org/hto/Edition/997902543804341   \n150568  https://w3id.org/hto/Edition/9929777383804340   \n\n                                            edition_title edition_number   \n0       Encyclopaedia Britannica; or, A dictionary of ...              4  \\\n1       Encyclopaedia Britannica; or, A dictionary of ...              4   \n2       Encyclopaedia Britannica; or, A dictionary of ...              4   \n3       Encyclopaedia Britannica; or, A dictionary of ...              4   \n4       Encyclopaedia Britannica; or, A dictionary of ...              4   \n...                                                   ...            ...   \n150564                           Encyclopaedia Britannica              8   \n150565                           Encyclopaedia Britannica              8   \n150566                           Encyclopaedia Britannica              8   \n150567                           Encyclopaedia Britannica              3   \n150568                           Encyclopaedia Britannica              8   \n\n                                               volume_uri volume_number   \n0       https://w3id.org/hto/Volume/9910796233804340_1...             1  \\\n1       https://w3id.org/hto/Volume/9910796233804340_1...             1   \n2       https://w3id.org/hto/Volume/9910796233804340_1...             1   \n3       https://w3id.org/hto/Volume/9910796233804340_1...             1   \n4       https://w3id.org/hto/Volume/9910796233804340_1...             1   \n...                                                   ...           ...   \n150564  https://w3id.org/hto/Volume/9929777383804340_1...            15   \n150565  https://w3id.org/hto/Volume/9929777383804340_1...            21   \n150566  https://w3id.org/hto/Volume/9929777383804340_1...            12   \n150567  https://w3id.org/hto/Volume/997902543804341_19...            17   \n150568  https://w3id.org/hto/Volume/9929777383804340_1...            21   \n\n       num_pages          letters  part   \n0            424  Agriculture-AME     2  \\\n1            424  Agriculture-AME     2   \n2            424  Agriculture-AME     2   \n3            424  Agriculture-AME     2   \n4            424  Agriculture-AME     2   \n...          ...              ...   ...   \n150564       868        Milan-NAV  None   \n150565      1062            T-ZWO  None   \n150566       858         Hume-JOM  None   \n150567       918          SCO-STR  None   \n150568      1062            T-ZWO  None   \n\n                                           start_page_uri start_page_number  \n0       https://w3id.org/hto/Page/9910796233804340_191...               331  \n1       https://w3id.org/hto/Page/9910796233804340_191...               316  \n2       https://w3id.org/hto/Page/9910796233804340_191...               341  \n3       https://w3id.org/hto/Page/9910796233804340_191...               416  \n4       https://w3id.org/hto/Page/9910796233804340_191...               209  \n...                                                   ...               ...  \n150564  https://w3id.org/hto/Page/9929777383804340_193...               609  \n150565  https://w3id.org/hto/Page/9929777383804340_193...               180  \n150566  https://w3id.org/hto/Page/9929777383804340_193...               587  \n150567  https://w3id.org/hto/Page/997902543804341_1912...               868  \n150568  https://w3id.org/hto/Page/9929777383804340_193...               785  \n\n[150569 rows x 16 columns]",
      "text/html": "<div>\n<style scoped>\n    .dataframe tbody tr th:only-of-type {\n        vertical-align: middle;\n    }\n\n    .dataframe tbody tr th {\n        vertical-align: top;\n    }\n\n    .dataframe thead th {\n        text-align: right;\n    }\n</style>\n<table border=\"1\" class=\"dataframe\">\n  <thead>\n    <tr style=\"text-align: right;\">\n      <th></th>\n      <th>term_uri</th>\n      <th>term_name</th>\n      <th>alter_names</th>\n      <th>note</th>\n      <th>file_path</th>\n      <th>description</th>\n      <th>edition_uri</th>\n      <th>edition_title</th>\n      <th>edition_number</th>\n      <th>volume_uri</th>\n      <th>volume_number</th>\n      <th>num_pages</th>\n      <th>letters</th>\n      <th>part</th>\n      <th>start_page_uri</th>\n      <th>start_page_number</th>\n    </tr>\n  </thead>\n  <tbody>\n    <tr>\n      <th>0</th>\n      <td>https://w3id.org/hto/ArticleTermRecord/9910796...</td>\n      <td>ALMAGEST</td>\n      <td>[]</td>\n      <td>None</td>\n      <td>191253819/alto/192151933.34.xml</td>\n      <td>in Matters of Literature, larly used for a col...</td>\n      <td>https://w3id.org/hto/Edition/9910796233804340</td>\n      <td>Encyclopaedia Britannica; or, A dictionary of ...</td>\n      <td>4</td>\n      <td>https://w3id.org/hto/Volume/9910796233804340_1...</td>\n      <td>1</td>\n      <td>424</td>\n      <td>Agriculture-AME</td>\n      <td>2</td>\n      <td>https://w3id.org/hto/Page/9910796233804340_191...</td>\n      <td>331</td>\n    </tr>\n    <tr>\n      <th>1</th>\n      <td>https://w3id.org/hto/ArticleTermRecord/9910796...</td>\n      <td>ALKENNA</td>\n      <td>[]</td>\n      <td>None</td>\n      <td>191253819/alto/192151738.34.xml</td>\n      <td>See Lawsonia,</td>\n      <td>https://w3id.org/hto/Edition/9910796233804340</td>\n      <td>Encyclopaedia Britannica; or, A dictionary of ...</td>\n      <td>4</td>\n      <td>https://w3id.org/hto/Volume/9910796233804340_1...</td>\n      <td>1</td>\n      <td>424</td>\n      <td>Agriculture-AME</td>\n      <td>2</td>\n      <td>https://w3id.org/hto/Page/9910796233804340_191...</td>\n      <td>316</td>\n    </tr>\n    <tr>\n      <th>2</th>\n      <td>https://w3id.org/hto/ArticleTermRecord/9910796...</td>\n      <td>ALOGOTROPHIA</td>\n      <td>[]</td>\n      <td>None</td>\n      <td>191253819/alto/192152063.34.xml</td>\n      <td>among Phy/icians, a term signifying the unequa...</td>\n      <td>https://w3id.org/hto/Edition/9910796233804340</td>\n      <td>Encyclopaedia Britannica; or, A dictionary of ...</td>\n      <td>4</td>\n      <td>https://w3id.org/hto/Volume/9910796233804340_1...</td>\n      <td>1</td>\n      <td>424</td>\n      <td>Agriculture-AME</td>\n      <td>2</td>\n      <td>https://w3id.org/hto/Page/9910796233804340_191...</td>\n      <td>341</td>\n    </tr>\n    <tr>\n      <th>3</th>\n      <td>https://w3id.org/hto/ArticleTermRecord/9910796...</td>\n      <td>AMBROSIN</td>\n      <td>[]</td>\n      <td>None</td>\n      <td>191253819/alto/192153038.34.xml</td>\n      <td>in middle-age writers, denotes a coin struck b...</td>\n      <td>https://w3id.org/hto/Edition/9910796233804340</td>\n      <td>Encyclopaedia Britannica; or, A dictionary of ...</td>\n      <td>4</td>\n      <td>https://w3id.org/hto/Volume/9910796233804340_1...</td>\n      <td>1</td>\n      <td>424</td>\n      <td>Agriculture-AME</td>\n      <td>2</td>\n      <td>https://w3id.org/hto/Page/9910796233804340_191...</td>\n      <td>416</td>\n    </tr>\n    <tr>\n      <th>4</th>\n      <td>https://w3id.org/hto/ArticleTermRecord/9910796...</td>\n      <td>ALEUROM</td>\n      <td>[]</td>\n      <td>None</td>\n      <td>191253819/alto/192150347.34.xml</td>\n      <td>ANC T, the same with what was ctherwife called...</td>\n      <td>https://w3id.org/hto/Edition/9910796233804340</td>\n      <td>Encyclopaedia Britannica; or, A dictionary of ...</td>\n      <td>4</td>\n      <td>https://w3id.org/hto/Volume/9910796233804340_1...</td>\n      <td>1</td>\n      <td>424</td>\n      <td>Agriculture-AME</td>\n      <td>2</td>\n      <td>https://w3id.org/hto/Page/9910796233804340_191...</td>\n      <td>209</td>\n    </tr>\n    <tr>\n      <th>...</th>\n      <td>...</td>\n      <td>...</td>\n      <td>...</td>\n      <td>...</td>\n      <td>...</td>\n      <td>...</td>\n      <td>...</td>\n      <td>...</td>\n      <td>...</td>\n      <td>...</td>\n      <td>...</td>\n      <td>...</td>\n      <td>...</td>\n      <td>...</td>\n      <td>...</td>\n      <td>...</td>\n    </tr>\n    <tr>\n      <th>150564</th>\n      <td>https://w3id.org/hto/TopicTermRecord/992977738...</td>\n      <td>MOROCCO</td>\n      <td>[]</td>\n      <td>None</td>\n      <td>193592632/alto/193600554.34.xml</td>\n      <td>MOROCCO. \\r c |)CCO. plexion, and live by hunt...</td>\n      <td>https://w3id.org/hto/Edition/9929777383804340</td>\n      <td>Encyclopaedia Britannica</td>\n      <td>8</td>\n      <td>https://w3id.org/hto/Volume/9929777383804340_1...</td>\n      <td>15</td>\n      <td>868</td>\n      <td>Milan-NAV</td>\n      <td>None</td>\n      <td>https://w3id.org/hto/Page/9929777383804340_193...</td>\n      <td>609</td>\n    </tr>\n    <tr>\n      <th>150565</th>\n      <td>https://w3id.org/hto/TopicTermRecord/992977738...</td>\n      <td>TEES</td>\n      <td>[]</td>\n      <td>None</td>\n      <td>193819047/alto/193843911.34.xml</td>\n      <td>T H E A Theatres. There was something very app...</td>\n      <td>https://w3id.org/hto/Edition/9929777383804340</td>\n      <td>Encyclopaedia Britannica</td>\n      <td>8</td>\n      <td>https://w3id.org/hto/Volume/9929777383804340_1...</td>\n      <td>21</td>\n      <td>1062</td>\n      <td>T-ZWO</td>\n      <td>None</td>\n      <td>https://w3id.org/hto/Page/9929777383804340_193...</td>\n      <td>180</td>\n    </tr>\n    <tr>\n      <th>150566</th>\n      <td>https://w3id.org/hto/TopicTermRecord/992977738...</td>\n      <td>BRIDGES</td>\n      <td>[]</td>\n      <td>None</td>\n      <td>193696087/alto/193792243.34.xml</td>\n      <td>IRON BRIDGES. Iron Bridges. The exclusive use ...</td>\n      <td>https://w3id.org/hto/Edition/9929777383804340</td>\n      <td>Encyclopaedia Britannica</td>\n      <td>8</td>\n      <td>https://w3id.org/hto/Volume/9929777383804340_1...</td>\n      <td>12</td>\n      <td>858</td>\n      <td>Hume-JOM</td>\n      <td>None</td>\n      <td>https://w3id.org/hto/Page/9929777383804340_193...</td>\n      <td>587</td>\n    </tr>\n    <tr>\n      <th>150567</th>\n      <td>https://w3id.org/hto/TopicTermRecord/997902543...</td>\n      <td>STENOGRAPHY</td>\n      <td>[]</td>\n      <td>None</td>\n      <td>191253800/alto/191923684.34.xml</td>\n      <td>pofed the omission of vowels in_ the middle of...</td>\n      <td>https://w3id.org/hto/Edition/997902543804341</td>\n      <td>Encyclopaedia Britannica</td>\n      <td>3</td>\n      <td>https://w3id.org/hto/Volume/997902543804341_19...</td>\n      <td>17</td>\n      <td>918</td>\n      <td>SCO-STR</td>\n      <td>None</td>\n      <td>https://w3id.org/hto/Page/997902543804341_1912...</td>\n      <td>868</td>\n    </tr>\n    <tr>\n      <th>150568</th>\n      <td>https://w3id.org/hto/TopicTermRecord/992977738...</td>\n      <td>WATERFORD</td>\n      <td>[]</td>\n      <td>None</td>\n      <td>193819047/alto/193851776.34.xml</td>\n      <td>1 WATERFORD. 760 Waterford. 800 tons come up t...</td>\n      <td>https://w3id.org/hto/Edition/9929777383804340</td>\n      <td>Encyclopaedia Britannica</td>\n      <td>8</td>\n      <td>https://w3id.org/hto/Volume/9929777383804340_1...</td>\n      <td>21</td>\n      <td>1062</td>\n      <td>T-ZWO</td>\n      <td>None</td>\n      <td>https://w3id.org/hto/Page/9929777383804340_193...</td>\n      <td>785</td>\n    </tr>\n  </tbody>\n</table>\n<p>150569 rows × 16 columns</p>\n</div>"
     },
     "execution_count": 55,
     "metadata": {},
     "output_type": "execute_result"
    }
   ],
   "source": [
    "terms_from_editions_nls_df = pd.DataFrame(terms_from_editions_nls)\n",
    "terms_from_editions_nls_df"
   ],
   "metadata": {
    "collapsed": false
   }
  },
  {
   "cell_type": "code",
   "execution_count": 57,
   "outputs": [
    {
     "data": {
      "text/plain": "                                                 term_uri    term_name   \n36358   https://w3id.org/hto/ArticleTermRecord/9910796...     CANDAHAR  \\\n36372   https://w3id.org/hto/ArticleTermRecord/9910796...  HYPOGLOTTIS   \n36403   https://w3id.org/hto/ArticleTermRecord/9910796...         EDOM   \n36407   https://w3id.org/hto/ArticleTermRecord/9910796...      HYPANTE   \n36422   https://w3id.org/hto/ArticleTermRecord/9910796...     HYPOBOLE   \n...                                                   ...          ...   \n148973  https://w3id.org/hto/TopicTermRecord/991079627...      DONGOLA   \n149005  https://w3id.org/hto/TopicTermRecord/991079627...     MAHOMMED   \n149076  https://w3id.org/hto/TopicTermRecord/991079627...         HALL   \n149196  https://w3id.org/hto/TopicTermRecord/991079627...     SERPENTS   \n150506  https://w3id.org/hto/TopicTermRecord/991079627...       CANTON   \n\n                  alter_names  note                        file_path   \n36358              [KANDAHAR]  None  193322690/alto/193347980.34.xml  \\\n36372           [HYPOGLOSSIS]  None  192693199/alto/192939598.34.xml   \n36403               [IDUMAEA]  None  193322688/alto/193328740.34.xml   \n36407            [HYPERPANTE]  None  192693199/alto/192939572.34.xml   \n36422            [SUBJECTION]  None  192693199/alto/192939598.34.xml   \n...                       ...   ...                              ...   \n148973              [DANKALA]  None  193322688/alto/193324593.34.xml   \n149005    [MAHOMET, MOHAMMED]  None  193322689/alto/194200162.34.xml   \n149076         [SUABIAN HALL]  None  193638940/alto/193640605.34.xml   \n149196    [OPHIDIAN REPTILES]  None  193913444/alto/193941865.34.xml   \n150506  [KOANTON, QUANG-TOΗG]  None  193322690/alto/193348318.34.xml   \n\n                                              description   \n36358   or Kandahar, an extensive Afghanistan, situate...  \\\n36372   or Hypoglossis, under, and y Xuirra, tongue, i...   \n36403   or Idumea, in Ancient Geography, a district of...   \n36407   or Hyperpante, a name given by the Greeks to t...   \n36422   or Subjection (from wro, and fict Kku, I cast)...   \n...                                                   ...   \n148973  Donegal, celebrated places of resort for pilgr...   \n149005  Mahomheard to her cousin Warakah Ebn Nawfal, w...   \n149076  Hall, tacked him had little effect, and the pe...   \n149196  Ophidian We now arrive, “ by lingering steps a...   \n150506  101 the kingdom of Tonking, and everywhere els...   \n\n                                          edition_uri   \n36358   https://w3id.org/hto/Edition/9910796273804340  \\\n36372   https://w3id.org/hto/Edition/9910796273804340   \n36403   https://w3id.org/hto/Edition/9910796273804340   \n36407   https://w3id.org/hto/Edition/9910796273804340   \n36422   https://w3id.org/hto/Edition/9910796273804340   \n...                                               ...   \n148973  https://w3id.org/hto/Edition/9910796273804340   \n149005  https://w3id.org/hto/Edition/9910796273804340   \n149076  https://w3id.org/hto/Edition/9910796273804340   \n149196  https://w3id.org/hto/Edition/9910796273804340   \n150506  https://w3id.org/hto/Edition/9910796273804340   \n\n                   edition_title edition_number   \n36358   Encyclopaedia Britannica              7  \\\n36372   Encyclopaedia Britannica              7   \n36403   Encyclopaedia Britannica              7   \n36407   Encyclopaedia Britannica              7   \n36422   Encyclopaedia Britannica              7   \n...                          ...            ...   \n148973  Encyclopaedia Britannica              7   \n149005  Encyclopaedia Britannica              7   \n149076  Encyclopaedia Britannica              7   \n149196  Encyclopaedia Britannica              7   \n150506  Encyclopaedia Britannica              7   \n\n                                               volume_uri volume_number   \n36358   https://w3id.org/hto/Volume/9910796273804340_1...             6  \\\n36372   https://w3id.org/hto/Volume/9910796273804340_1...            12   \n36403   https://w3id.org/hto/Volume/9910796273804340_1...             8   \n36407   https://w3id.org/hto/Volume/9910796273804340_1...            12   \n36422   https://w3id.org/hto/Volume/9910796273804340_1...            12   \n...                                                   ...           ...   \n148973  https://w3id.org/hto/Volume/9910796273804340_1...             8   \n149005  https://w3id.org/hto/Volume/9910796273804340_1...            14   \n149076  https://w3id.org/hto/Volume/9910796273804340_1...            11   \n149196  https://w3id.org/hto/Volume/9910796273804340_1...            20   \n150506  https://w3id.org/hto/Volume/9910796273804340_1...             6   \n\n       num_pages            letters  part   \n36358        930          CAL-Clock  None  \\\n36372        902  Hydrodynamics-KYR  None   \n36403        974        DIA-England  None   \n36407        902  Hydrodynamics-KYR  None   \n36422        902  Hydrodynamics-KYR  None   \n...          ...                ...   ...   \n148973       974        DIA-England  None   \n149005       938   Magnetism-Mexico  None   \n149076       872        Grotius-HYD  None   \n149196      1056      Sculpture-SUR  None   \n150506       930          CAL-Clock  None   \n\n                                           start_page_uri start_page_number  \n36358   https://w3id.org/hto/Page/9910796273804340_193...                85  \n36372   https://w3id.org/hto/Page/9910796273804340_192...               148  \n36403   https://w3id.org/hto/Page/9910796273804340_193...               441  \n36407   https://w3id.org/hto/Page/9910796273804340_192...               146  \n36422   https://w3id.org/hto/Page/9910796273804340_192...               148  \n...                                                   ...               ...  \n148973  https://w3id.org/hto/Page/9910796273804340_193...               122  \n149005  https://w3id.org/hto/Page/9910796273804340_193...                36  \n149076  https://w3id.org/hto/Page/9910796273804340_193...               126  \n149196  https://w3id.org/hto/Page/9910796273804340_193...               134  \n150506  https://w3id.org/hto/Page/9910796273804340_193...               111  \n\n[1025 rows x 16 columns]",
      "text/html": "<div>\n<style scoped>\n    .dataframe tbody tr th:only-of-type {\n        vertical-align: middle;\n    }\n\n    .dataframe tbody tr th {\n        vertical-align: top;\n    }\n\n    .dataframe thead th {\n        text-align: right;\n    }\n</style>\n<table border=\"1\" class=\"dataframe\">\n  <thead>\n    <tr style=\"text-align: right;\">\n      <th></th>\n      <th>term_uri</th>\n      <th>term_name</th>\n      <th>alter_names</th>\n      <th>note</th>\n      <th>file_path</th>\n      <th>description</th>\n      <th>edition_uri</th>\n      <th>edition_title</th>\n      <th>edition_number</th>\n      <th>volume_uri</th>\n      <th>volume_number</th>\n      <th>num_pages</th>\n      <th>letters</th>\n      <th>part</th>\n      <th>start_page_uri</th>\n      <th>start_page_number</th>\n    </tr>\n  </thead>\n  <tbody>\n    <tr>\n      <th>36358</th>\n      <td>https://w3id.org/hto/ArticleTermRecord/9910796...</td>\n      <td>CANDAHAR</td>\n      <td>[KANDAHAR]</td>\n      <td>None</td>\n      <td>193322690/alto/193347980.34.xml</td>\n      <td>or Kandahar, an extensive Afghanistan, situate...</td>\n      <td>https://w3id.org/hto/Edition/9910796273804340</td>\n      <td>Encyclopaedia Britannica</td>\n      <td>7</td>\n      <td>https://w3id.org/hto/Volume/9910796273804340_1...</td>\n      <td>6</td>\n      <td>930</td>\n      <td>CAL-Clock</td>\n      <td>None</td>\n      <td>https://w3id.org/hto/Page/9910796273804340_193...</td>\n      <td>85</td>\n    </tr>\n    <tr>\n      <th>36372</th>\n      <td>https://w3id.org/hto/ArticleTermRecord/9910796...</td>\n      <td>HYPOGLOTTIS</td>\n      <td>[HYPOGLOSSIS]</td>\n      <td>None</td>\n      <td>192693199/alto/192939598.34.xml</td>\n      <td>or Hypoglossis, under, and y Xuirra, tongue, i...</td>\n      <td>https://w3id.org/hto/Edition/9910796273804340</td>\n      <td>Encyclopaedia Britannica</td>\n      <td>7</td>\n      <td>https://w3id.org/hto/Volume/9910796273804340_1...</td>\n      <td>12</td>\n      <td>902</td>\n      <td>Hydrodynamics-KYR</td>\n      <td>None</td>\n      <td>https://w3id.org/hto/Page/9910796273804340_192...</td>\n      <td>148</td>\n    </tr>\n    <tr>\n      <th>36403</th>\n      <td>https://w3id.org/hto/ArticleTermRecord/9910796...</td>\n      <td>EDOM</td>\n      <td>[IDUMAEA]</td>\n      <td>None</td>\n      <td>193322688/alto/193328740.34.xml</td>\n      <td>or Idumea, in Ancient Geography, a district of...</td>\n      <td>https://w3id.org/hto/Edition/9910796273804340</td>\n      <td>Encyclopaedia Britannica</td>\n      <td>7</td>\n      <td>https://w3id.org/hto/Volume/9910796273804340_1...</td>\n      <td>8</td>\n      <td>974</td>\n      <td>DIA-England</td>\n      <td>None</td>\n      <td>https://w3id.org/hto/Page/9910796273804340_193...</td>\n      <td>441</td>\n    </tr>\n    <tr>\n      <th>36407</th>\n      <td>https://w3id.org/hto/ArticleTermRecord/9910796...</td>\n      <td>HYPANTE</td>\n      <td>[HYPERPANTE]</td>\n      <td>None</td>\n      <td>192693199/alto/192939572.34.xml</td>\n      <td>or Hyperpante, a name given by the Greeks to t...</td>\n      <td>https://w3id.org/hto/Edition/9910796273804340</td>\n      <td>Encyclopaedia Britannica</td>\n      <td>7</td>\n      <td>https://w3id.org/hto/Volume/9910796273804340_1...</td>\n      <td>12</td>\n      <td>902</td>\n      <td>Hydrodynamics-KYR</td>\n      <td>None</td>\n      <td>https://w3id.org/hto/Page/9910796273804340_192...</td>\n      <td>146</td>\n    </tr>\n    <tr>\n      <th>36422</th>\n      <td>https://w3id.org/hto/ArticleTermRecord/9910796...</td>\n      <td>HYPOBOLE</td>\n      <td>[SUBJECTION]</td>\n      <td>None</td>\n      <td>192693199/alto/192939598.34.xml</td>\n      <td>or Subjection (from wro, and fict Kku, I cast)...</td>\n      <td>https://w3id.org/hto/Edition/9910796273804340</td>\n      <td>Encyclopaedia Britannica</td>\n      <td>7</td>\n      <td>https://w3id.org/hto/Volume/9910796273804340_1...</td>\n      <td>12</td>\n      <td>902</td>\n      <td>Hydrodynamics-KYR</td>\n      <td>None</td>\n      <td>https://w3id.org/hto/Page/9910796273804340_192...</td>\n      <td>148</td>\n    </tr>\n    <tr>\n      <th>...</th>\n      <td>...</td>\n      <td>...</td>\n      <td>...</td>\n      <td>...</td>\n      <td>...</td>\n      <td>...</td>\n      <td>...</td>\n      <td>...</td>\n      <td>...</td>\n      <td>...</td>\n      <td>...</td>\n      <td>...</td>\n      <td>...</td>\n      <td>...</td>\n      <td>...</td>\n      <td>...</td>\n    </tr>\n    <tr>\n      <th>148973</th>\n      <td>https://w3id.org/hto/TopicTermRecord/991079627...</td>\n      <td>DONGOLA</td>\n      <td>[DANKALA]</td>\n      <td>None</td>\n      <td>193322688/alto/193324593.34.xml</td>\n      <td>Donegal, celebrated places of resort for pilgr...</td>\n      <td>https://w3id.org/hto/Edition/9910796273804340</td>\n      <td>Encyclopaedia Britannica</td>\n      <td>7</td>\n      <td>https://w3id.org/hto/Volume/9910796273804340_1...</td>\n      <td>8</td>\n      <td>974</td>\n      <td>DIA-England</td>\n      <td>None</td>\n      <td>https://w3id.org/hto/Page/9910796273804340_193...</td>\n      <td>122</td>\n    </tr>\n    <tr>\n      <th>149005</th>\n      <td>https://w3id.org/hto/TopicTermRecord/991079627...</td>\n      <td>MAHOMMED</td>\n      <td>[MAHOMET, MOHAMMED]</td>\n      <td>None</td>\n      <td>193322689/alto/194200162.34.xml</td>\n      <td>Mahomheard to her cousin Warakah Ebn Nawfal, w...</td>\n      <td>https://w3id.org/hto/Edition/9910796273804340</td>\n      <td>Encyclopaedia Britannica</td>\n      <td>7</td>\n      <td>https://w3id.org/hto/Volume/9910796273804340_1...</td>\n      <td>14</td>\n      <td>938</td>\n      <td>Magnetism-Mexico</td>\n      <td>None</td>\n      <td>https://w3id.org/hto/Page/9910796273804340_193...</td>\n      <td>36</td>\n    </tr>\n    <tr>\n      <th>149076</th>\n      <td>https://w3id.org/hto/TopicTermRecord/991079627...</td>\n      <td>HALL</td>\n      <td>[SUABIAN HALL]</td>\n      <td>None</td>\n      <td>193638940/alto/193640605.34.xml</td>\n      <td>Hall, tacked him had little effect, and the pe...</td>\n      <td>https://w3id.org/hto/Edition/9910796273804340</td>\n      <td>Encyclopaedia Britannica</td>\n      <td>7</td>\n      <td>https://w3id.org/hto/Volume/9910796273804340_1...</td>\n      <td>11</td>\n      <td>872</td>\n      <td>Grotius-HYD</td>\n      <td>None</td>\n      <td>https://w3id.org/hto/Page/9910796273804340_193...</td>\n      <td>126</td>\n    </tr>\n    <tr>\n      <th>149196</th>\n      <td>https://w3id.org/hto/TopicTermRecord/991079627...</td>\n      <td>SERPENTS</td>\n      <td>[OPHIDIAN REPTILES]</td>\n      <td>None</td>\n      <td>193913444/alto/193941865.34.xml</td>\n      <td>Ophidian We now arrive, “ by lingering steps a...</td>\n      <td>https://w3id.org/hto/Edition/9910796273804340</td>\n      <td>Encyclopaedia Britannica</td>\n      <td>7</td>\n      <td>https://w3id.org/hto/Volume/9910796273804340_1...</td>\n      <td>20</td>\n      <td>1056</td>\n      <td>Sculpture-SUR</td>\n      <td>None</td>\n      <td>https://w3id.org/hto/Page/9910796273804340_193...</td>\n      <td>134</td>\n    </tr>\n    <tr>\n      <th>150506</th>\n      <td>https://w3id.org/hto/TopicTermRecord/991079627...</td>\n      <td>CANTON</td>\n      <td>[KOANTON, QUANG-TOΗG]</td>\n      <td>None</td>\n      <td>193322690/alto/193348318.34.xml</td>\n      <td>101 the kingdom of Tonking, and everywhere els...</td>\n      <td>https://w3id.org/hto/Edition/9910796273804340</td>\n      <td>Encyclopaedia Britannica</td>\n      <td>7</td>\n      <td>https://w3id.org/hto/Volume/9910796273804340_1...</td>\n      <td>6</td>\n      <td>930</td>\n      <td>CAL-Clock</td>\n      <td>None</td>\n      <td>https://w3id.org/hto/Page/9910796273804340_193...</td>\n      <td>111</td>\n    </tr>\n  </tbody>\n</table>\n<p>1025 rows × 16 columns</p>\n</div>"
     },
     "execution_count": 57,
     "metadata": {},
     "output_type": "execute_result"
    }
   ],
   "source": [
    "alter_names_terms_df = terms_from_editions_nls_df[terms_from_editions_nls_df.apply(lambda row: len(row[\"alter_names\"]) > 0, axis=1)]\n",
    "alter_names_terms_df"
   ],
   "metadata": {
    "collapsed": false
   }
  },
  {
   "cell_type": "code",
   "execution_count": 60,
   "outputs": [
    {
     "data": {
      "text/plain": "[{'term_uri': 'https://w3id.org/hto/ArticleTermRecord/9910796273804340_193322690_2559301054_0',\n  'term_name': 'CANDAHAR',\n  'alter_names': ['KANDAHAR'],\n  'note': None,\n  'file_path': '193322690/alto/193347980.34.xml',\n  'description': 'or Kandahar, an extensive Afghanistan, situated between the 31st and of north latitude, and between the 64th and of east longitude. To the north it is bounded try of Balk, to the south by Beloochistan, east it has Sinde and Beloochistan ; and sandy desert of various breadth divides it vince of Seistan, in Persia. Part of this province of mountains, and part of arid and uncultivated crossed by ranges of hills running westward ropamisan Mountains. But though the general of the country be waste and barren, most parts ply water and forage to the pastoral hordes frequented; and it is not destitute of many ed and pleasant valleys, and some fertile plains, ed by mountains. The western part of this means so mountainous as the northern ; times it was a fertile and well-inhabited region, from many magnificent ruins that are scattered From Candahar a tract ofvery considerable extent westward for upwards of two hundred miles. breadth is a hundred miles. This tract is very ly defined, the hills on the north sometimes the plain, and the southern parts of the inhabited not being easily distinguished from the desert they border. The aspect of this country that of a desert. Scarce a tree is to be found region ; the plains are covered merely with Through this arid region many various streams casional fertility. The banks of the Furrah, and other streams, are well cultivated, and produce barley, pulse, and abundance of excellent melons. at a distance from the streams some patches are to be found, which are artificially watered. villages among the cultivated lands; but the inhabitants are scattered over the face of tents. The banks of the Helmund must, however, cepted from the general unproductive character country, along which a fertile strip extends miles in breadth, beyond which the sandy and stretches out for many days journey. ward of this desert tract is a hilly region, the Paropamisan range, which includes fertile are well watered, and produce abundance ley, and rice, together with madder and artificial On these plains grow the tamarisk and and a few willows and poplars; and the tain all the fruit trees of Europe. The country the city of Candahar is level, of tolerable fertility,',\n  'edition_uri': 'https://w3id.org/hto/Edition/9910796273804340',\n  'edition_title': 'Encyclopaedia Britannica',\n  'edition_number': '7',\n  'volume_uri': 'https://w3id.org/hto/Volume/9910796273804340_193322690',\n  'volume_number': '6',\n  'num_pages': '930',\n  'letters': 'CAL-Clock',\n  'part': None,\n  'start_page_uri': 'https://w3id.org/hto/Page/9910796273804340_193322690_85',\n  'start_page_number': '85'},\n {'term_uri': 'https://w3id.org/hto/ArticleTermRecord/9910796273804340_192693199_2592586386_0',\n  'term_name': 'HYPOGLOTTIS',\n  'alter_names': ['HYPOGLOSSIS'],\n  'note': None,\n  'file_path': '192693199/alto/192939598.34.xml',\n  'description': 'or Hypoglossis, under, and y Xuirra, tongue, in Anatomy, two glands of the tongue. There the tongue ; two of them, called under it, near the vence ramdares, tongue. They serve to secrete the nature of saliva, which is discharged little ducts near the gums. Hypoglottis, or Hypoglossis, inflammation or ulceration under',\n  'edition_uri': 'https://w3id.org/hto/Edition/9910796273804340',\n  'edition_title': 'Encyclopaedia Britannica',\n  'edition_number': '7',\n  'volume_uri': 'https://w3id.org/hto/Volume/9910796273804340_192693199',\n  'volume_number': '12',\n  'num_pages': '902',\n  'letters': 'Hydrodynamics-KYR',\n  'part': None,\n  'start_page_uri': 'https://w3id.org/hto/Page/9910796273804340_192693199_148',\n  'start_page_number': '148'},\n {'term_uri': 'https://w3id.org/hto/ArticleTermRecord/9910796273804340_193322688_3679809337_0',\n  'term_name': 'EDOM',\n  'alter_names': ['IDUMAEA'],\n  'note': None,\n  'file_path': '193322688/alto/193328740.34.xml',\n  'description': \"or Idumea, in Ancient Geography, a district of Petraea. A great part also of the south of Judaea called Idumeea, because it was occupied by the Iduupon the Jewish captivit)', as far as Hebron. But proper Edom or Idumaea appears not to have been extensive, from the march of the Israelites, in which compassed it on the south-eastward, till they came the country of the Moabites. Within this compass lies Hor, where Aaron died, and marching from which Israelites fought with King Arad the Canaanite, who down the wilderness against them. Ibis was the of the Idumaea Propria to the south of the Dead but in Solomon’s time it extended to the Red Sea. Kings, ix. 26.)\",\n  'edition_uri': 'https://w3id.org/hto/Edition/9910796273804340',\n  'edition_title': 'Encyclopaedia Britannica',\n  'edition_number': '7',\n  'volume_uri': 'https://w3id.org/hto/Volume/9910796273804340_193322688',\n  'volume_number': '8',\n  'num_pages': '974',\n  'letters': 'DIA-England',\n  'part': None,\n  'start_page_uri': 'https://w3id.org/hto/Page/9910796273804340_193322688_441',\n  'start_page_number': '441'},\n {'term_uri': 'https://w3id.org/hto/ArticleTermRecord/9910796273804340_192693199_6143809241_0',\n  'term_name': 'HYPANTE',\n  'alter_names': ['HYPERPANTE'],\n  'note': None,\n  'file_path': '192693199/alto/192939572.34.xml',\n  'description': 'or Hyperpante, a name given by the Greeks to the feast of the presentation of Jesus in the temple. This word, which signifies lowly or humble meeting, was given to this feast from the meeting of old Simeon and Anna the prophetess in the temple, when Jesus was',\n  'edition_uri': 'https://w3id.org/hto/Edition/9910796273804340',\n  'edition_title': 'Encyclopaedia Britannica',\n  'edition_number': '7',\n  'volume_uri': 'https://w3id.org/hto/Volume/9910796273804340_192693199',\n  'volume_number': '12',\n  'num_pages': '902',\n  'letters': 'Hydrodynamics-KYR',\n  'part': None,\n  'start_page_uri': 'https://w3id.org/hto/Page/9910796273804340_192693199_146',\n  'start_page_number': '146'},\n {'term_uri': 'https://w3id.org/hto/ArticleTermRecord/9910796273804340_192693199_8371415801_0',\n  'term_name': 'HYPOBOLE',\n  'alter_names': ['SUBJECTION'],\n  'note': None,\n  'file_path': '192693199/alto/192939598.34.xml',\n  'description': 'or Subjection (from wro, and fict Kku, I cast), in Rhetoric, a figure which is so called because several things are mentioned which seem to make for the contrary side, and each of them is refuted in order. This figure, when complete, consists of three parts ; a proposition, an enumeration of particulars with the answers to these, and a conclusion.',\n  'edition_uri': 'https://w3id.org/hto/Edition/9910796273804340',\n  'edition_title': 'Encyclopaedia Britannica',\n  'edition_number': '7',\n  'volume_uri': 'https://w3id.org/hto/Volume/9910796273804340_192693199',\n  'volume_number': '12',\n  'num_pages': '902',\n  'letters': 'Hydrodynamics-KYR',\n  'part': None,\n  'start_page_uri': 'https://w3id.org/hto/Page/9910796273804340_192693199_148',\n  'start_page_number': '148'}]"
     },
     "execution_count": 60,
     "metadata": {},
     "output_type": "execute_result"
    }
   ],
   "source": [
    "alter_names_terms_df[:5].to_dict(orient=\"records\")"
   ],
   "metadata": {
    "collapsed": false
   }
  },
  {
   "cell_type": "code",
   "execution_count": 52,
   "outputs": [
    {
     "data": {
      "text/plain": "                                                 term_uri   \n34102   https://w3id.org/hto/ArticleTermRecord/9910796...  \\\n34103   https://w3id.org/hto/ArticleTermRecord/9910796...   \n34104   https://w3id.org/hto/ArticleTermRecord/9910796...   \n34105   https://w3id.org/hto/ArticleTermRecord/9910796...   \n34106   https://w3id.org/hto/ArticleTermRecord/9910796...   \n...                                                   ...   \n148328  https://w3id.org/hto/TopicTermRecord/992977738...   \n148884  https://w3id.org/hto/TopicTermRecord/991079627...   \n149765  https://w3id.org/hto/TopicTermRecord/992977738...   \n149766  https://w3id.org/hto/TopicTermRecord/992977738...   \n149767  https://w3id.org/hto/TopicTermRecord/992977738...   \n\n                       term_name  note                        file_path   \n34102                   ALMAGEST  None  192547789/alto/192890315.34.xml  \\\n34103                   AFFINITY  None  192547789/alto/192890276.34.xml   \n34104                  BARBARISM  None  192547789/alto/192890458.34.xml   \n34105                 ABSTINENTS  None  192547789/alto/192890250.34.xml   \n34106                       AMMA  None  192547789/alto/192890328.34.xml   \n...                          ...   ...                              ...   \n148328              GENERALINDEX  None  193322702/alto/193441918.34.xml   \n148884                     INDEX  None  192547789/alto/192890510.34.xml   \n149765                     INDEX  None  193322702/alto/193442191.34.xml   \n149766                   PEEFACE  None  193322702/alto/193445168.34.xml   \n149767  INDEXTOTHENAMESOFAUTHORS  None  193322702/alto/193445415.34.xml   \n\n                                              description   \n34102                             II. 529; III. 733, 734.  \\\n34103   a relation contracted by marriage, II. 210. , ...   \n34104         IV. 360. Barbaro on architecture. III. 425.   \n34105                         a sect of heretics, II. 46.   \n34106   II. 657. Amman, in Palestine, XVI. 746. (John ...   \n...                                                   ...   \n148328  THE following Index contains a full and comple...   \n148884  INDEX BER—BET Berog, zoophyte, XXL 1018. Berce...   \n149765  INDEX. ARI—ARM his method of discussion, ib.—h...   \n149766  xv together, “ they exhibited,” according to t...   \n149767  INDEX TO THE NAMES OF AUTHORS. Initials. A.B. ...   \n\n                                          edition_uri   \n34102   https://w3id.org/hto/Edition/9910796273804340  \\\n34103   https://w3id.org/hto/Edition/9910796273804340   \n34104   https://w3id.org/hto/Edition/9910796273804340   \n34105   https://w3id.org/hto/Edition/9910796273804340   \n34106   https://w3id.org/hto/Edition/9910796273804340   \n...                                               ...   \n148328  https://w3id.org/hto/Edition/9929777383804340   \n148884  https://w3id.org/hto/Edition/9910796273804340   \n149765  https://w3id.org/hto/Edition/9929777383804340   \n149766  https://w3id.org/hto/Edition/9929777383804340   \n149767  https://w3id.org/hto/Edition/9929777383804340   \n\n                   edition_title edition_number   \n34102   Encyclopaedia Britannica              7  \\\n34103   Encyclopaedia Britannica              7   \n34104   Encyclopaedia Britannica              7   \n34105   Encyclopaedia Britannica              7   \n34106   Encyclopaedia Britannica              7   \n...                          ...            ...   \n148328  Encyclopaedia Britannica              8   \n148884  Encyclopaedia Britannica              7   \n149765  Encyclopaedia Britannica              8   \n149766  Encyclopaedia Britannica              8   \n149767  Encyclopaedia Britannica              8   \n\n                                               volume_uri volume_number   \n34102   https://w3id.org/hto/Volume/9910796273804340_1...             0  \\\n34103   https://w3id.org/hto/Volume/9910796273804340_1...             0   \n34104   https://w3id.org/hto/Volume/9910796273804340_1...             0   \n34105   https://w3id.org/hto/Volume/9910796273804340_1...             0   \n34106   https://w3id.org/hto/Volume/9910796273804340_1...             0   \n...                                                   ...           ...   \n148328  https://w3id.org/hto/Volume/9929777383804340_1...             0   \n148884  https://w3id.org/hto/Volume/9910796273804340_1...             0   \n149765  https://w3id.org/hto/Volume/9929777383804340_1...             0   \n149766  https://w3id.org/hto/Volume/9929777383804340_1...             0   \n149767  https://w3id.org/hto/Volume/9929777383804340_1...             0   \n\n       num_pages letters  part   \n34102        184    None  None  \\\n34103        184    None  None   \n34104        184    None  None   \n34105        184    None  None   \n34106        184    None  None   \n...          ...     ...   ...   \n148328       290    None  None   \n148884       184    None  None   \n149765       290    None  None   \n149766       290    None  None   \n149767       290    None  None   \n\n                                           start_page_uri start_page_number  \n34102   https://w3id.org/hto/Page/9910796273804340_192...                19  \n34103   https://w3id.org/hto/Page/9910796273804340_192...                16  \n34104   https://w3id.org/hto/Page/9910796273804340_192...                30  \n34105   https://w3id.org/hto/Page/9910796273804340_192...                14  \n34106   https://w3id.org/hto/Page/9910796273804340_192...                20  \n...                                                   ...               ...  \n148328  https://w3id.org/hto/Page/9929777383804340_193...                11  \n148884  https://w3id.org/hto/Page/9910796273804340_192...                34  \n149765  https://w3id.org/hto/Page/9929777383804340_193...                32  \n149766  https://w3id.org/hto/Page/9929777383804340_193...               261  \n149767  https://w3id.org/hto/Page/9929777383804340_193...               280  \n\n[4202 rows x 15 columns]",
      "text/html": "<div>\n<style scoped>\n    .dataframe tbody tr th:only-of-type {\n        vertical-align: middle;\n    }\n\n    .dataframe tbody tr th {\n        vertical-align: top;\n    }\n\n    .dataframe thead th {\n        text-align: right;\n    }\n</style>\n<table border=\"1\" class=\"dataframe\">\n  <thead>\n    <tr style=\"text-align: right;\">\n      <th></th>\n      <th>term_uri</th>\n      <th>term_name</th>\n      <th>note</th>\n      <th>file_path</th>\n      <th>description</th>\n      <th>edition_uri</th>\n      <th>edition_title</th>\n      <th>edition_number</th>\n      <th>volume_uri</th>\n      <th>volume_number</th>\n      <th>num_pages</th>\n      <th>letters</th>\n      <th>part</th>\n      <th>start_page_uri</th>\n      <th>start_page_number</th>\n    </tr>\n  </thead>\n  <tbody>\n    <tr>\n      <th>34102</th>\n      <td>https://w3id.org/hto/ArticleTermRecord/9910796...</td>\n      <td>ALMAGEST</td>\n      <td>None</td>\n      <td>192547789/alto/192890315.34.xml</td>\n      <td>II. 529; III. 733, 734.</td>\n      <td>https://w3id.org/hto/Edition/9910796273804340</td>\n      <td>Encyclopaedia Britannica</td>\n      <td>7</td>\n      <td>https://w3id.org/hto/Volume/9910796273804340_1...</td>\n      <td>0</td>\n      <td>184</td>\n      <td>None</td>\n      <td>None</td>\n      <td>https://w3id.org/hto/Page/9910796273804340_192...</td>\n      <td>19</td>\n    </tr>\n    <tr>\n      <th>34103</th>\n      <td>https://w3id.org/hto/ArticleTermRecord/9910796...</td>\n      <td>AFFINITY</td>\n      <td>None</td>\n      <td>192547789/alto/192890276.34.xml</td>\n      <td>a relation contracted by marriage, II. 210. , ...</td>\n      <td>https://w3id.org/hto/Edition/9910796273804340</td>\n      <td>Encyclopaedia Britannica</td>\n      <td>7</td>\n      <td>https://w3id.org/hto/Volume/9910796273804340_1...</td>\n      <td>0</td>\n      <td>184</td>\n      <td>None</td>\n      <td>None</td>\n      <td>https://w3id.org/hto/Page/9910796273804340_192...</td>\n      <td>16</td>\n    </tr>\n    <tr>\n      <th>34104</th>\n      <td>https://w3id.org/hto/ArticleTermRecord/9910796...</td>\n      <td>BARBARISM</td>\n      <td>None</td>\n      <td>192547789/alto/192890458.34.xml</td>\n      <td>IV. 360. Barbaro on architecture. III. 425.</td>\n      <td>https://w3id.org/hto/Edition/9910796273804340</td>\n      <td>Encyclopaedia Britannica</td>\n      <td>7</td>\n      <td>https://w3id.org/hto/Volume/9910796273804340_1...</td>\n      <td>0</td>\n      <td>184</td>\n      <td>None</td>\n      <td>None</td>\n      <td>https://w3id.org/hto/Page/9910796273804340_192...</td>\n      <td>30</td>\n    </tr>\n    <tr>\n      <th>34105</th>\n      <td>https://w3id.org/hto/ArticleTermRecord/9910796...</td>\n      <td>ABSTINENTS</td>\n      <td>None</td>\n      <td>192547789/alto/192890250.34.xml</td>\n      <td>a sect of heretics, II. 46.</td>\n      <td>https://w3id.org/hto/Edition/9910796273804340</td>\n      <td>Encyclopaedia Britannica</td>\n      <td>7</td>\n      <td>https://w3id.org/hto/Volume/9910796273804340_1...</td>\n      <td>0</td>\n      <td>184</td>\n      <td>None</td>\n      <td>None</td>\n      <td>https://w3id.org/hto/Page/9910796273804340_192...</td>\n      <td>14</td>\n    </tr>\n    <tr>\n      <th>34106</th>\n      <td>https://w3id.org/hto/ArticleTermRecord/9910796...</td>\n      <td>AMMA</td>\n      <td>None</td>\n      <td>192547789/alto/192890328.34.xml</td>\n      <td>II. 657. Amman, in Palestine, XVI. 746. (John ...</td>\n      <td>https://w3id.org/hto/Edition/9910796273804340</td>\n      <td>Encyclopaedia Britannica</td>\n      <td>7</td>\n      <td>https://w3id.org/hto/Volume/9910796273804340_1...</td>\n      <td>0</td>\n      <td>184</td>\n      <td>None</td>\n      <td>None</td>\n      <td>https://w3id.org/hto/Page/9910796273804340_192...</td>\n      <td>20</td>\n    </tr>\n    <tr>\n      <th>...</th>\n      <td>...</td>\n      <td>...</td>\n      <td>...</td>\n      <td>...</td>\n      <td>...</td>\n      <td>...</td>\n      <td>...</td>\n      <td>...</td>\n      <td>...</td>\n      <td>...</td>\n      <td>...</td>\n      <td>...</td>\n      <td>...</td>\n      <td>...</td>\n      <td>...</td>\n    </tr>\n    <tr>\n      <th>148328</th>\n      <td>https://w3id.org/hto/TopicTermRecord/992977738...</td>\n      <td>GENERALINDEX</td>\n      <td>None</td>\n      <td>193322702/alto/193441918.34.xml</td>\n      <td>THE following Index contains a full and comple...</td>\n      <td>https://w3id.org/hto/Edition/9929777383804340</td>\n      <td>Encyclopaedia Britannica</td>\n      <td>8</td>\n      <td>https://w3id.org/hto/Volume/9929777383804340_1...</td>\n      <td>0</td>\n      <td>290</td>\n      <td>None</td>\n      <td>None</td>\n      <td>https://w3id.org/hto/Page/9929777383804340_193...</td>\n      <td>11</td>\n    </tr>\n    <tr>\n      <th>148884</th>\n      <td>https://w3id.org/hto/TopicTermRecord/991079627...</td>\n      <td>INDEX</td>\n      <td>None</td>\n      <td>192547789/alto/192890510.34.xml</td>\n      <td>INDEX BER—BET Berog, zoophyte, XXL 1018. Berce...</td>\n      <td>https://w3id.org/hto/Edition/9910796273804340</td>\n      <td>Encyclopaedia Britannica</td>\n      <td>7</td>\n      <td>https://w3id.org/hto/Volume/9910796273804340_1...</td>\n      <td>0</td>\n      <td>184</td>\n      <td>None</td>\n      <td>None</td>\n      <td>https://w3id.org/hto/Page/9910796273804340_192...</td>\n      <td>34</td>\n    </tr>\n    <tr>\n      <th>149765</th>\n      <td>https://w3id.org/hto/TopicTermRecord/992977738...</td>\n      <td>INDEX</td>\n      <td>None</td>\n      <td>193322702/alto/193442191.34.xml</td>\n      <td>INDEX. ARI—ARM his method of discussion, ib.—h...</td>\n      <td>https://w3id.org/hto/Edition/9929777383804340</td>\n      <td>Encyclopaedia Britannica</td>\n      <td>8</td>\n      <td>https://w3id.org/hto/Volume/9929777383804340_1...</td>\n      <td>0</td>\n      <td>290</td>\n      <td>None</td>\n      <td>None</td>\n      <td>https://w3id.org/hto/Page/9929777383804340_193...</td>\n      <td>32</td>\n    </tr>\n    <tr>\n      <th>149766</th>\n      <td>https://w3id.org/hto/TopicTermRecord/992977738...</td>\n      <td>PEEFACE</td>\n      <td>None</td>\n      <td>193322702/alto/193445168.34.xml</td>\n      <td>xv together, “ they exhibited,” according to t...</td>\n      <td>https://w3id.org/hto/Edition/9929777383804340</td>\n      <td>Encyclopaedia Britannica</td>\n      <td>8</td>\n      <td>https://w3id.org/hto/Volume/9929777383804340_1...</td>\n      <td>0</td>\n      <td>290</td>\n      <td>None</td>\n      <td>None</td>\n      <td>https://w3id.org/hto/Page/9929777383804340_193...</td>\n      <td>261</td>\n    </tr>\n    <tr>\n      <th>149767</th>\n      <td>https://w3id.org/hto/TopicTermRecord/992977738...</td>\n      <td>INDEXTOTHENAMESOFAUTHORS</td>\n      <td>None</td>\n      <td>193322702/alto/193445415.34.xml</td>\n      <td>INDEX TO THE NAMES OF AUTHORS. Initials. A.B. ...</td>\n      <td>https://w3id.org/hto/Edition/9929777383804340</td>\n      <td>Encyclopaedia Britannica</td>\n      <td>8</td>\n      <td>https://w3id.org/hto/Volume/9929777383804340_1...</td>\n      <td>0</td>\n      <td>290</td>\n      <td>None</td>\n      <td>None</td>\n      <td>https://w3id.org/hto/Page/9929777383804340_193...</td>\n      <td>280</td>\n    </tr>\n  </tbody>\n</table>\n<p>4202 rows × 15 columns</p>\n</div>"
     },
     "execution_count": 52,
     "metadata": {},
     "output_type": "execute_result"
    }
   ],
   "source": [
    "non_letters_terms = terms_from_editions_nls_df[terms_from_editions_nls_df[\"letters\"].isnull()]\n",
    "non_letters_terms"
   ],
   "metadata": {
    "collapsed": false
   }
  },
  {
   "cell_type": "code",
   "execution_count": 38,
   "outputs": [
    {
     "name": "stdout",
     "output_type": "stream",
     "text": [
      "\n",
      "      PREFIX hto: <https://w3id.org/hto#>\n",
      "      PREFIX prov: <http://www.w3.org/ns/prov#>\n",
      "      PREFIX foaf: <http://xmlns.com/foaf/0.1/>\n",
      "      SELECT * WHERE {\n",
      "        ?page hto:number ?page_number;\n",
      "            hto:hasOriginalDescription ?description.\n",
      "        ?description hto:text ?text;\n",
      "            hto:wasExtractedFrom ?source_dataset.\n",
      "        ?source_dataset prov:wasAttributedTo ?agent.\n",
      "        ?agent foaf:name \"National Library of Scotland\".\n",
      "        ?volume a hto:Volume;\n",
      "            hto:hadMember ?page.\n",
      "        ?series a hto:Series;\n",
      "            hto:hadMember ?volume.\n",
      "        ?eb_collection a hto:WorkCollection;\n",
      "            hto:name \"Chapbooks printed in Scotland Collection\";\n",
      "            hto:hadMember ?series.\n",
      "    }\n",
      "    \n"
     ]
    },
    {
     "data": {
      "text/plain": "47329"
     },
     "execution_count": 38,
     "metadata": {},
     "output_type": "execute_result"
    }
   ],
   "source": [
    "chapbooks_pages = get_nls_page_from_nls(\"National Library of Scotland\", \"Chapbooks printed in Scotland Collection\")\n",
    "len(chapbooks_pages)"
   ],
   "metadata": {
    "collapsed": false
   }
  },
  {
   "cell_type": "code",
   "execution_count": 51,
   "outputs": [
    {
     "name": "stdout",
     "output_type": "stream",
     "text": [
      "\n",
      "      PREFIX hto: <https://w3id.org/hto#>\n",
      "      PREFIX prov: <http://www.w3.org/ns/prov#>\n",
      "      PREFIX foaf: <http://xmlns.com/foaf/0.1/>\n",
      "      SELECT * WHERE {\n",
      "        ?term a ?term_type;\n",
      "            hto:name ?term_name;\n",
      "            hto:startsAtPage ?page;\n",
      "            hto:hasOriginalDescription ?description.\n",
      "        FILTER (?term_type = hto:ArticleTermRecord || ?term_type = hto:TopicTermRecord)\n",
      "        ?description hto:text ?description_text;\n",
      "            hto:wasExtractedFrom ?source_dataset.\n",
      "        ?source_dataset prov:wasAttributedTo ?agent.\n",
      "        ?agent foaf:name \"Ash Charlton\".\n",
      "        ?volume a hto:Volume;\n",
      "            hto:hadMember ?page.\n",
      "        ?edition a hto:Edition;\n",
      "            hto:mmsid ?mmsid;\n",
      "            hto:hadMember ?volume.\n",
      "        FILTER (?mmsid = \"992277653804341\")\n",
      "        ?eb_collection a hto:WorkCollection;\n",
      "            hto:name \"Encyclopaedia Britannica Collection\";\n",
      "            hto:hadMember ?edition.\n",
      "    }\n",
      "    \n",
      "\n",
      "      PREFIX hto: <https://w3id.org/hto#>\n",
      "      PREFIX prov: <http://www.w3.org/ns/prov#>\n",
      "      PREFIX foaf: <http://xmlns.com/foaf/0.1/>\n",
      "      SELECT * WHERE {\n",
      "        ?term a ?term_type;\n",
      "            hto:name ?term_name;\n",
      "            hto:startsAtPage ?page;\n",
      "            hto:hasOriginalDescription ?description.\n",
      "        FILTER (?term_type = hto:ArticleTermRecord || ?term_type = hto:TopicTermRecord)\n",
      "        ?description hto:text ?description_text;\n",
      "            hto:wasExtractedFrom ?source_dataset.\n",
      "        ?source_dataset prov:wasAttributedTo ?agent.\n",
      "        ?agent foaf:name \"National Library of Scotland\".\n",
      "        ?volume a hto:Volume;\n",
      "            hto:hadMember ?page.\n",
      "        ?edition a hto:Edition;\n",
      "            hto:mmsid ?mmsid;\n",
      "            hto:hadMember ?volume.\n",
      "        FILTER (?mmsid = \"9929192893804340\" || ?mmsid = \"997902523804341\" || ?mmsid = \"997902543804341\" || ?mmsid = \"9910796343804340\" || ?mmsid = \"9910796233804340\" || ?mmsid = \"9922270543804340\" || ?mmsid = \"9910796253804340\" || ?mmsid = \"9929777383804340\")\n",
      "        ?eb_collection a hto:WorkCollection;\n",
      "            hto:name \"Encyclopaedia Britannica Collection\";\n",
      "            hto:hadMember ?edition.\n",
      "    }\n",
      "    \n",
      "\n",
      "      PREFIX hto: <https://w3id.org/hto#>\n",
      "      PREFIX prov: <http://www.w3.org/ns/prov#>\n",
      "      PREFIX foaf: <http://xmlns.com/foaf/0.1/>\n",
      "      SELECT * WHERE {\n",
      "        ?term a ?term_type;\n",
      "            hto:name ?term_name;\n",
      "            hto:startsAtPage ?page;\n",
      "            hto:hasOriginalDescription ?description.\n",
      "        FILTER (?term_type = hto:ArticleTermRecord || ?term_type = hto:TopicTermRecord)\n",
      "        ?description hto:text ?description_text;\n",
      "            hto:wasExtractedFrom ?source_dataset.\n",
      "        ?source_dataset prov:wasAttributedTo ?agent.\n",
      "        ?agent foaf:name \"Nineteenth-Century Knowledge Project\".\n",
      "        ?volume a hto:Volume;\n",
      "            hto:hadMember ?page.\n",
      "        ?edition a hto:Edition;\n",
      "            hto:mmsid ?mmsid;\n",
      "            hto:hadMember ?volume.\n",
      "        FILTER (?mmsid = \"9910796273804340\")\n",
      "        ?eb_collection a hto:WorkCollection;\n",
      "            hto:name \"Encyclopaedia Britannica Collection\";\n",
      "            hto:hadMember ?edition.\n",
      "    }\n",
      "    \n"
     ]
    },
    {
     "data": {
      "text/plain": "168112"
     },
     "execution_count": 51,
     "metadata": {},
     "output_type": "execute_result"
    }
   ],
   "source": [
    "hq_eb_terms = get_hto_object(\"Encyclopaedia Britannica Collection\", \"HQ\")\n",
    "len(hq_eb_terms)"
   ],
   "metadata": {
    "collapsed": false
   }
  },
  {
   "cell_type": "code",
   "execution_count": 66,
   "outputs": [],
   "source": [
    "test_result = {'1823': [20, 17546, 22018, 12054402], '1771': [3, 2722, 8923, 1949168], '1773': [3, 2740, 9194, 1931151]}"
   ],
   "metadata": {
    "collapsed": false
   }
  },
  {
   "cell_type": "code",
   "execution_count": 65,
   "outputs": [
    {
     "ename": "TypeError",
     "evalue": "'int' object is not iterable",
     "output_type": "error",
     "traceback": [
      "\u001B[0;31m---------------------------------------------------------------------------\u001B[0m",
      "\u001B[0;31mTypeError\u001B[0m                                 Traceback (most recent call last)",
      "Cell \u001B[0;32mIn[65], line 3\u001B[0m\n\u001B[1;32m      1\u001B[0m \u001B[38;5;28;01mimport\u001B[39;00m \u001B[38;5;21;01myaml\u001B[39;00m\n\u001B[0;32m----> 3\u001B[0m yml \u001B[38;5;241m=\u001B[39m yaml\u001B[38;5;241m.\u001B[39msafe_dump(\u001B[38;5;28;43mdict\u001B[39;49m\u001B[43m(\u001B[49m\u001B[43mtest_result\u001B[49m\u001B[43m)\u001B[49m)\n\u001B[1;32m      4\u001B[0m yml\n",
      "\u001B[0;31mTypeError\u001B[0m: 'int' object is not iterable"
     ]
    }
   ],
   "source": [
    "import yaml\n",
    "\n",
    "yml = yaml.safe_dump(dict(test_result))\n",
    "yml"
   ],
   "metadata": {
    "collapsed": false
   }
  }
 ],
 "metadata": {
  "kernelspec": {
   "display_name": "Python 3",
   "language": "python",
   "name": "python3"
  },
  "language_info": {
   "codemirror_mode": {
    "name": "ipython",
    "version": 2
   },
   "file_extension": ".py",
   "mimetype": "text/x-python",
   "name": "python",
   "nbconvert_exporter": "python",
   "pygments_lexer": "ipython2",
   "version": "2.7.6"
  }
 },
 "nbformat": 4,
 "nbformat_minor": 0
}
