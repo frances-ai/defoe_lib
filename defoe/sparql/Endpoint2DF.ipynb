{
 "cells": [
  {
   "cell_type": "code",
   "execution_count": 1,
   "outputs": [],
   "source": [
    "sparql_endpoint = \"http://query.frances-ai.com/ebo_1st_hq_old\""
   ],
   "metadata": {
    "collapsed": false
   }
  },
  {
   "cell_type": "code",
   "execution_count": 2,
   "outputs": [],
   "source": [
    "from SPARQLWrapper import SPARQLWrapper, JSON\n",
    "import pandas as pd\n",
    "\n",
    "\n",
    "def endpoint2df(endpoint):\n",
    "    sparql = SPARQLWrapper(endpoint)\n",
    "    sparql_data=[]\n",
    "    if \"ebo\" in endpoint:\n",
    "        query=\"\"\"\n",
    "          PREFIX eb: <https://w3id.org/eb#>\n",
    "          PREFIX rdfs: <http://www.w3.org/2000/01/rdf-schema#>\n",
    "          SELECT ?uri ?year ?title ?enum ?vnum ?v ?letters ?part ?metsXML ?page ?header ?term ?definition ?numberOfWords ?numberOfPages\n",
    "              WHERE {{\n",
    "            ?uri a eb:Article .\n",
    "            ?uri eb:name ?term .\n",
    "              ?uri eb:definition ?definition .\n",
    "              ?uri eb:numberOfWords ?numberOfWords .\n",
    "              ?v eb:hasPart ?uri.\n",
    "              ?v eb:number ?vnum.\n",
    "              ?v eb:numberOfPages ?numberOfPages .\n",
    "              ?v eb:metsXML ?metsXML.\n",
    "              ?v eb:letters ?letters .\n",
    "              ?e eb:hasPart ?v.\n",
    "              ?e eb:publicationYear ?year.\n",
    "              ?e eb:number ?enum.\n",
    "              ?e eb:title ?title.\n",
    "              ?uri eb:startsAtPage ?sp.\n",
    "              ?sp eb:header ?header .\n",
    "              ?sp eb:number ?page .\n",
    "              OPTIONAL {?v eb:part ?part; }\n",
    "\n",
    "              }\n",
    "\n",
    "              UNION {\n",
    "            ?uri a eb:Topic .\n",
    "            ?uri eb:name ?term .\n",
    "              ?uri eb:definition ?definition .\n",
    "              ?uri eb:numberOfWords ?numberOfWords .\n",
    "              ?v eb:hasPart ?uri.\n",
    "              ?v eb:number ?vnum.\n",
    "              ?v eb:numberOfPages ?numberOfPages .\n",
    "              ?v eb:metsXML ?metsXML.\n",
    "              ?v eb:letters ?letters .\n",
    "              ?e eb:hasPart ?v.\n",
    "              ?e eb:publicationYear ?year.\n",
    "              ?e eb:number ?enum.\n",
    "              ?e eb:title ?title.\n",
    "              ?uri eb:startsAtPage ?sp.\n",
    "              ?sp eb:header ?header .\n",
    "              ?sp eb:number ?page .\n",
    "              OPTIONAL {?v eb:part ?part; }\n",
    "\n",
    "              }\n",
    "        }\n",
    "        \"\"\"\n",
    "        sparql.setQuery(query)\n",
    "        sparql.setReturnFormat(JSON)\n",
    "        results = sparql.query().convert()\n",
    "\n",
    "        for r in results[\"results\"][\"bindings\"]:\n",
    "            if \"part\" in r:\n",
    "                v_part=r[\"part\"][\"value\"]\n",
    "            else:\n",
    "                v_part=\"None\"\n",
    "            sparql_data.append({\"uri\": r[\"uri\"][\"value\"], \"year\": r[\"year\"][\"value\"], \"title\":r[\"title\"][\"value\"], \"edition\":r[\"enum\"][\"value\"], \"vuri\":r[\"v\"][\"value\"], \"volume\":r[\"vnum\"][\"value\"], \"numPages\":r[\"numberOfPages\"][\"value\"], \"letters\":r[\"letters\"][\"value\"], \"part\":v_part, \"archive_filename\":r[\"metsXML\"][\"value\"], \"page\":r[\"page\"][\"value\"], \"header\":r[\"header\"][\"value\"], \"term\":r[\"term\"][\"value\"], \"definition\":r[\"definition\"][\"value\"], \"numWords\":r[\"numberOfWords\"][\"value\"]})\n",
    "    sparql_df = pd.DataFrame(sparql_data)\n",
    "    return sparql_df"
   ],
   "metadata": {
    "collapsed": false
   }
  },
  {
   "cell_type": "code",
   "execution_count": 3,
   "outputs": [],
   "source": [
    "eb_hq_df = endpoint2df(sparql_endpoint)"
   ],
   "metadata": {
    "collapsed": false
   }
  },
  {
   "cell_type": "code",
   "execution_count": 4,
   "outputs": [
    {
     "data": {
      "text/plain": "26429"
     },
     "execution_count": 4,
     "metadata": {},
     "output_type": "execute_result"
    }
   ],
   "source": [
    "len(eb_hq_df)"
   ],
   "metadata": {
    "collapsed": false
   }
  },
  {
   "cell_type": "code",
   "execution_count": 5,
   "outputs": [],
   "source": [
    "eb_hq_df_1771 = eb_hq_df[eb_hq_df[\"year\"] == \"1771\"]"
   ],
   "metadata": {
    "collapsed": false
   }
  },
  {
   "cell_type": "code",
   "execution_count": 8,
   "outputs": [
    {
     "name": "stdout",
     "output_type": "stream",
     "text": [
      "                                                     uri  year   \n",
      "14756  https://w3id.org/eb/i/Article/992277653804341_...  1771  \\\n",
      "14757  https://w3id.org/eb/i/Article/992277653804341_...  1771   \n",
      "\n",
      "                title edition   \n",
      "14756  Edition 1,1771       1  \\\n",
      "14757  Edition 1,1771       1   \n",
      "\n",
      "                                                    vuri volume numPages   \n",
      "14756  https://w3id.org/eb/i/Volume/992277653804341_1...      2     1018  \\\n",
      "14757  https://w3id.org/eb/i/Volume/992277653804341_1...      2     1018   \n",
      "\n",
      "      letters  part archive_filename page header    term   \n",
      "14756     C-L  None                   434    DES  DERVIS  \\\n",
      "14757     C-L  None                   434    DER  DERVIS   \n",
      "\n",
      "                                              definition numWords  \n",
      "14756  a name given to all Mahommedan monks, though o...      471  \n",
      "14757  a name given to all Mahommedan monks, though o...      471  \n"
     ]
    }
   ],
   "source": [
    "dervis_1771 = eb_hq_df_1771[eb_hq_df_1771[\"term\"] == \"DERVIS\"]\n",
    "print(dervis_1771)"
   ],
   "metadata": {
    "collapsed": false
   }
  },
  {
   "cell_type": "code",
   "execution_count": 85,
   "outputs": [],
   "source": [
    "eb_hq_year_vol_page_header = eb_hq_df[[\"year\", \"volume\",  \"page\", \"header\"]]"
   ],
   "metadata": {
    "collapsed": false
   }
  },
  {
   "cell_type": "code",
   "execution_count": 111,
   "outputs": [
    {
     "name": "stdout",
     "output_type": "stream",
     "text": [
      "       year volume page         header\n",
      "56566  1810     15  103         NUMNUM\n",
      "58033  1810      5  103  GCAMCAMERARIA\n",
      "58043  1810      5  103  GCAMCAMERARIA\n",
      "58303  1810      5  103  GCAMCAMERARIA\n",
      "58428  1810      5  103  GCAMCAMERARIA\n",
      "58488  1810      5  103  GCAMCAMERARIA\n",
      "58519  1810      5  103  GCAMCAMERARIA\n",
      "58761  1810      5  103  GCAMCAMERARIA\n",
      "58867  1810      5  103  GCAMCAMERARIA\n",
      "63516  1810     13  103         MELMEL\n",
      "63540  1810     13  103         MELMEL\n",
      "63642  1810     13  103         MELMEL\n",
      "64508  1810     11  103            LAD\n",
      "64602  1810     11  103            LAD\n",
      "65091  1810     11  103            LAD\n",
      "65227  1810     11  103            LAD\n",
      "66977  1810      3  103           BEAJ\n",
      "71711  1810      7  103         DAYDAY\n",
      "71935  1810      7  103         DAYDAY\n",
      "72773  1810     10  103         GREGRE\n",
      "73691  1810     18  103          PBROB\n",
      "73791  1810     18  103          PBROB\n",
      "73986  1810     18  103        SAPJSAP\n",
      "74138  1810     18  103        SAPJSAP\n",
      "74147  1810     18  103        SAPJSAP\n",
      "74189  1810     18  103        SAPJSAP\n",
      "74215  1810     18  103        SAPJSAP\n",
      "74223  1810     18  103        SAPJSAP\n",
      "76013  1810      9  103         GENGEN\n",
      "76029  1810      9  103         GENGEN\n",
      "76137  1810      9  103         GENGEN\n",
      "76181  1810      9  103         GENGEN\n",
      "76515  1810      9  103         GENGEN\n"
     ]
    }
   ],
   "source": [
    "eb_hq_1810_vol_page_header = eb_hq_year_vol_page_header[(eb_hq_year_vol_page_header[\"year\"] == '1810') & (eb_hq_year_vol_page_header[\"page\"] == '103')]\n",
    "print(eb_hq_1810_vol_page_header)"
   ],
   "metadata": {
    "collapsed": false
   }
  },
  {
   "cell_type": "code",
   "execution_count": 86,
   "outputs": [],
   "source": [
    "unique_eb_hq_year_vol_page_header = eb_hq_year_vol_page_header.drop_duplicates(subset=[\"year\", \"volume\",  \"page\", \"header\"])"
   ],
   "metadata": {
    "collapsed": false
   }
  },
  {
   "cell_type": "code",
   "execution_count": 87,
   "outputs": [
    {
     "name": "stdout",
     "output_type": "stream",
     "text": [
      "        year volume page          header\n",
      "0       1771      1  681          BLIBLO\n",
      "1       1771      1  819          BUFBUI\n",
      "2       1771      1  786          EOTBOU\n",
      "3       1771      1  630          BARBAR\n",
      "4       1771      1   56          AGHAGM\n",
      "...      ...    ...  ...             ...\n",
      "150564  1853     13  320         LEATHER\n",
      "150565  1853     13  452  LIFEPRESERVERS\n",
      "150566  1853     13  582           LOGIC\n",
      "150567  1853     13   99        KILKENNY\n",
      "150568  1853     13   23        JOSEPHUS\n",
      "\n",
      "[31395 rows x 4 columns]\n"
     ]
    }
   ],
   "source": [
    "print(unique_eb_hq_year_vol_page_header)"
   ],
   "metadata": {
    "collapsed": false
   }
  },
  {
   "cell_type": "code",
   "execution_count": 88,
   "outputs": [],
   "source": [
    "year_vol_page_header_counts = unique_eb_hq_year_vol_page_header.groupby(['page', 'volume', 'year']).size().reset_index(name='header_count')"
   ],
   "metadata": {
    "collapsed": false
   }
  },
  {
   "cell_type": "code",
   "execution_count": 110,
   "outputs": [
    {
     "name": "stdout",
     "output_type": "stream",
     "text": [
      "      page volume  year  header_count\n",
      "18     100     18  1810             2\n",
      "178    103     18  1810             2\n",
      "231    104     18  1810             2\n",
      "347    106     18  1810             2\n",
      "404    107     18  1810             2\n",
      "...    ...    ...   ...           ...\n",
      "29966   89     10  1810             2\n",
      "30231   92     17  1810             2\n",
      "30562   97     18  1810             2\n",
      "30630   98     18  1810             2\n",
      "30700   99     18  1810             2\n",
      "\n",
      "[649 rows x 4 columns]\n"
     ]
    }
   ],
   "source": [
    "print(year_vol_page_header_counts[(year_vol_page_header_counts[\"year\"] == \"1810\") & (year_vol_page_header_counts[\"header_count\"] > 1)])"
   ],
   "metadata": {
    "collapsed": false
   }
  }
 ],
 "metadata": {
  "kernelspec": {
   "display_name": "Python 3",
   "language": "python",
   "name": "python3"
  },
  "language_info": {
   "codemirror_mode": {
    "name": "ipython",
    "version": 2
   },
   "file_extension": ".py",
   "mimetype": "text/x-python",
   "name": "python",
   "nbconvert_exporter": "python",
   "pygments_lexer": "ipython2",
   "version": "2.7.6"
  }
 },
 "nbformat": 4,
 "nbformat_minor": 0
}
